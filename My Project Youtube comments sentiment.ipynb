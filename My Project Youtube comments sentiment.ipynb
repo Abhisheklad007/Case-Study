{
 "cells": [
  {
   "cell_type": "code",
   "execution_count": 1,
   "id": "7658956e",
   "metadata": {},
   "outputs": [],
   "source": [
    "#from youtube_comment_scraper_python import *"
   ]
  },
  {
   "cell_type": "code",
   "execution_count": 2,
   "id": "0dc3153e",
   "metadata": {},
   "outputs": [],
   "source": [
    "#!pip install youtube-comment-scraper-python"
   ]
  },
  {
   "cell_type": "code",
   "execution_count": 3,
   "id": "6e7292b7",
   "metadata": {},
   "outputs": [],
   "source": [
    "#!pip install --upgrade pip"
   ]
  },
  {
   "cell_type": "markdown",
   "id": "6dd032d6",
   "metadata": {},
   "source": [
    "# Data Extraction"
   ]
  },
  {
   "cell_type": "code",
   "execution_count": null,
   "id": "aef27a2a",
   "metadata": {},
   "outputs": [],
   "source": [
    "# from youtube_comment_scraper_python import *\n",
    "# import pandas as pd\n",
    "\n",
    "# link = input(\"Youtube links: \")\n",
    "# saved = input(\"Output name: \")\n",
    "# youtube.open(link)\n",
    "\n",
    "# response = youtube.video_comments()\n",
    "# all_data = []\n",
    "# for i in range(0, 20): # It will scroll 10 times\n",
    "#     response = youtube.video_comments()\n",
    "#     data = response['body']\n",
    "#     all_data.extend(data)\n",
    "# df = pd.DataFrame(data)\n",
    "# df.to_csv(saved)"
   ]
  },
  {
   "cell_type": "code",
   "execution_count": null,
   "id": "3224896a",
   "metadata": {},
   "outputs": [],
   "source": [
    "# Movie name - Black adam trailer"
   ]
  },
  {
   "cell_type": "code",
   "execution_count": 4,
   "id": "1aa8c1b8",
   "metadata": {},
   "outputs": [],
   "source": [
    "import numpy as np\n",
    "import pandas as pd\n",
    "import seaborn as sns\n",
    "import matplotlib.pyplot as plt\n",
    "%matplotlib inline\n",
    "#from youtube_comment_scraper_python import *"
   ]
  },
  {
   "cell_type": "code",
   "execution_count": 5,
   "id": "c5a36fb6",
   "metadata": {},
   "outputs": [
    {
     "data": {
      "text/plain": [
       "<bound method NDFrame.head of      Unnamed: 0                                            Comment Likes  \\\n",
       "0             0  Love how Dr. Fate's design looks and how cool ...   12K   \n",
       "1             1  I can’t get over how good everything looks. Dr...  2.6K   \n",
       "2             2  Really hoping that this can save DC's movie un...   814   \n",
       "3             3  U cant deny how good this looks.Now if they ca...    91   \n",
       "4             4  From this trailer, I have a feeling that this ...   367   \n",
       "..          ...                                                ...   ...   \n",
       "275         275  I want to see this. It may be one of his most ...     0   \n",
       "276         276       wow thats very amazing. I can't wait to see.     0   \n",
       "277         277                    Doctor Fate is why i'm watching     5   \n",
       "278         278  This looks fire. DC looks like they stepping t...     0   \n",
       "279         279  Shazam : \"I don't want fight you Black Adam.\"B...     0   \n",
       "\n",
       "                    Time  user UserLink  \n",
       "0             9 days ago   NaN      NaN  \n",
       "1             7 days ago   NaN      NaN  \n",
       "2             7 days ago   NaN      NaN  \n",
       "3             6 days ago   NaN      NaN  \n",
       "4    7 days ago (edited)   NaN      NaN  \n",
       "..                   ...   ...      ...  \n",
       "275  6 days ago (edited)   NaN      NaN  \n",
       "276           6 days ago   NaN      NaN  \n",
       "277            1 day ago   NaN      NaN  \n",
       "278           7 days ago   NaN      NaN  \n",
       "279           6 days ago   NaN      NaN  \n",
       "\n",
       "[280 rows x 6 columns]>"
      ]
     },
     "execution_count": 5,
     "metadata": {},
     "output_type": "execute_result"
    }
   ],
   "source": [
    "data = pd.read_csv('E:\\\\Python\\\\Project\\\\Youtube Sentiment\\\\comments.csv')\n",
    "data.head"
   ]
  },
  {
   "cell_type": "code",
   "execution_count": 6,
   "id": "a2db073a",
   "metadata": {},
   "outputs": [
    {
     "data": {
      "text/plain": [
       "Index(['Unnamed: 0', 'Comment', 'Likes', 'Time', 'user', 'UserLink'], dtype='object')"
      ]
     },
     "execution_count": 6,
     "metadata": {},
     "output_type": "execute_result"
    }
   ],
   "source": [
    "# Checkinf the columns\n",
    "data.columns"
   ]
  },
  {
   "cell_type": "code",
   "execution_count": 7,
   "id": "6a5a8162",
   "metadata": {},
   "outputs": [],
   "source": [
    "#Drop the unwanted columns\n",
    "data.drop(['Unnamed: 0','Likes','Time','user','UserLink'],axis=1,inplace=True)"
   ]
  },
  {
   "cell_type": "code",
   "execution_count": 8,
   "id": "3f0eeb6f",
   "metadata": {},
   "outputs": [
    {
     "data": {
      "text/html": [
       "<div>\n",
       "<style scoped>\n",
       "    .dataframe tbody tr th:only-of-type {\n",
       "        vertical-align: middle;\n",
       "    }\n",
       "\n",
       "    .dataframe tbody tr th {\n",
       "        vertical-align: top;\n",
       "    }\n",
       "\n",
       "    .dataframe thead th {\n",
       "        text-align: right;\n",
       "    }\n",
       "</style>\n",
       "<table border=\"1\" class=\"dataframe\">\n",
       "  <thead>\n",
       "    <tr style=\"text-align: right;\">\n",
       "      <th></th>\n",
       "      <th>Comment</th>\n",
       "    </tr>\n",
       "  </thead>\n",
       "  <tbody>\n",
       "    <tr>\n",
       "      <th>0</th>\n",
       "      <td>Love how Dr. Fate's design looks and how cool ...</td>\n",
       "    </tr>\n",
       "    <tr>\n",
       "      <th>1</th>\n",
       "      <td>I can’t get over how good everything looks. Dr...</td>\n",
       "    </tr>\n",
       "    <tr>\n",
       "      <th>2</th>\n",
       "      <td>Really hoping that this can save DC's movie un...</td>\n",
       "    </tr>\n",
       "    <tr>\n",
       "      <th>3</th>\n",
       "      <td>U cant deny how good this looks.Now if they ca...</td>\n",
       "    </tr>\n",
       "    <tr>\n",
       "      <th>4</th>\n",
       "      <td>From this trailer, I have a feeling that this ...</td>\n",
       "    </tr>\n",
       "  </tbody>\n",
       "</table>\n",
       "</div>"
      ],
      "text/plain": [
       "                                             Comment\n",
       "0  Love how Dr. Fate's design looks and how cool ...\n",
       "1  I can’t get over how good everything looks. Dr...\n",
       "2  Really hoping that this can save DC's movie un...\n",
       "3  U cant deny how good this looks.Now if they ca...\n",
       "4  From this trailer, I have a feeling that this ..."
      ]
     },
     "execution_count": 8,
     "metadata": {},
     "output_type": "execute_result"
    }
   ],
   "source": [
    "data.head()"
   ]
  },
  {
   "cell_type": "code",
   "execution_count": 9,
   "id": "0364f7d3",
   "metadata": {},
   "outputs": [
    {
     "data": {
      "text/plain": [
       "(280, 1)"
      ]
     },
     "execution_count": 9,
     "metadata": {},
     "output_type": "execute_result"
    }
   ],
   "source": [
    "data.shape"
   ]
  },
  {
   "cell_type": "code",
   "execution_count": 10,
   "id": "64ef6c20",
   "metadata": {},
   "outputs": [],
   "source": [
    "# Creating new feature by calculating polarity score\n",
    "from nltk.sentiment.vader import SentimentIntensityAnalyzer   #This library is use to calculate polarity score"
   ]
  },
  {
   "cell_type": "code",
   "execution_count": 11,
   "id": "d0c0135d",
   "metadata": {},
   "outputs": [],
   "source": [
    "import nltk\n",
    "#nltk.download('vader_lexicon')"
   ]
  },
  {
   "cell_type": "code",
   "execution_count": 12,
   "id": "85ce39d8",
   "metadata": {},
   "outputs": [],
   "source": [
    "#VADER (Valence Aware Dictionary and sEntiment Reasoner) is a lexicon and rule-based sentiment analysis tool that is \n",
    "#specifically attuned to sentiments expressed in social media, and works well on texts from other domains."
   ]
  },
  {
   "cell_type": "code",
   "execution_count": 13,
   "id": "3bfb6c97",
   "metadata": {},
   "outputs": [],
   "source": [
    "sentiments = SentimentIntensityAnalyzer()\n",
    "\n",
    "data['Positive'] = [sentiments.polarity_scores(i)['pos'] for i in data['Comment']]"
   ]
  },
  {
   "cell_type": "code",
   "execution_count": 14,
   "id": "90177f1f",
   "metadata": {},
   "outputs": [
    {
     "data": {
      "text/plain": [
       "[{'neg': 0.0, 'neu': 0.616, 'pos': 0.384, 'compound': 0.891},\n",
       " {'neg': 0.0, 'neu': 0.847, 'pos': 0.153, 'compound': 0.6801},\n",
       " {'neg': 0.0, 'neu': 0.625, 'pos': 0.375, 'compound': 0.9216},\n",
       " {'neg': 0.049, 'neu': 0.649, 'pos': 0.302, 'compound': 0.9262},\n",
       " {'neg': 0.0, 'neu': 0.869, 'pos': 0.131, 'compound': 0.4416},\n",
       " {'neg': 0.0, 'neu': 0.503, 'pos': 0.497, 'compound': 0.9501},\n",
       " {'neg': 0.247, 'neu': 0.753, 'pos': 0.0, 'compound': -0.6002},\n",
       " {'neg': 0.058, 'neu': 0.82, 'pos': 0.122, 'compound': 0.3071},\n",
       " {'neg': 0.0, 'neu': 0.961, 'pos': 0.039, 'compound': 0.2714},\n",
       " {'neg': 0.039, 'neu': 0.714, 'pos': 0.247, 'compound': 0.902},\n",
       " {'neg': 0.193, 'neu': 0.712, 'pos': 0.095, 'compound': -0.886},\n",
       " {'neg': 0.0, 'neu': 0.672, 'pos': 0.328, 'compound': 0.973},\n",
       " {'neg': 0.0, 'neu': 0.818, 'pos': 0.182, 'compound': 0.7103},\n",
       " {'neg': 0.0, 'neu': 0.803, 'pos': 0.197, 'compound': 0.7319},\n",
       " {'neg': 0.064, 'neu': 0.773, 'pos': 0.163, 'compound': 0.6573},\n",
       " {'neg': 0.0, 'neu': 0.761, 'pos': 0.239, 'compound': 0.624},\n",
       " {'neg': 0.0, 'neu': 0.927, 'pos': 0.073, 'compound': 0.6028},\n",
       " {'neg': 0.175, 'neu': 0.7, 'pos': 0.125, 'compound': -0.2782},\n",
       " {'neg': 0.06, 'neu': 0.669, 'pos': 0.271, 'compound': 0.8999},\n",
       " {'neg': 0.0, 'neu': 1.0, 'pos': 0.0, 'compound': 0.0},\n",
       " {'neg': 0.223, 'neu': 0.687, 'pos': 0.09, 'compound': -0.5154},\n",
       " {'neg': 0.0, 'neu': 0.441, 'pos': 0.559, 'compound': 0.8713},\n",
       " {'neg': 0.224, 'neu': 0.647, 'pos': 0.129, 'compound': -0.1531},\n",
       " {'neg': 0.186, 'neu': 0.465, 'pos': 0.35, 'compound': 0.5374},\n",
       " {'neg': 0.0, 'neu': 0.663, 'pos': 0.337, 'compound': 0.9133},\n",
       " {'neg': 0.0, 'neu': 0.885, 'pos': 0.115, 'compound': 0.5229},\n",
       " {'neg': 0.203, 'neu': 0.797, 'pos': 0.0, 'compound': -0.2584},\n",
       " {'neg': 0.0, 'neu': 0.535, 'pos': 0.465, 'compound': 0.9039},\n",
       " {'neg': 0.057, 'neu': 0.464, 'pos': 0.479, 'compound': 0.9638},\n",
       " {'neg': 0.079, 'neu': 0.776, 'pos': 0.145, 'compound': 0.6808},\n",
       " {'neg': 0.0, 'neu': 0.672, 'pos': 0.328, 'compound': 0.7481},\n",
       " {'neg': 0.0, 'neu': 0.811, 'pos': 0.189, 'compound': 0.5911},\n",
       " {'neg': 0.0, 'neu': 0.576, 'pos': 0.424, 'compound': 0.8834},\n",
       " {'neg': 0.206, 'neu': 0.426, 'pos': 0.369, 'compound': 0.3182},\n",
       " {'neg': 0.0, 'neu': 0.775, 'pos': 0.225, 'compound': 0.4404},\n",
       " {'neg': 0.0, 'neu': 0.606, 'pos': 0.394, 'compound': 0.7579},\n",
       " {'neg': 0.0, 'neu': 0.65, 'pos': 0.35, 'compound': 0.8949},\n",
       " {'neg': 0.0, 'neu': 0.626, 'pos': 0.374, 'compound': 0.8116},\n",
       " {'neg': 0.118, 'neu': 0.882, 'pos': 0.0, 'compound': -0.5574},\n",
       " {'neg': 0.0, 'neu': 0.504, 'pos': 0.496, 'compound': 0.9567},\n",
       " {'neg': 0.0, 'neu': 0.778, 'pos': 0.222, 'compound': 0.631},\n",
       " {'neg': 0.0, 'neu': 0.897, 'pos': 0.103, 'compound': 0.34},\n",
       " {'neg': 0.0, 'neu': 0.631, 'pos': 0.369, 'compound': 0.6892},\n",
       " {'neg': 0.078, 'neu': 0.704, 'pos': 0.218, 'compound': 0.7495},\n",
       " {'neg': 0.0, 'neu': 0.584, 'pos': 0.416, 'compound': 0.8925},\n",
       " {'neg': 0.0, 'neu': 0.851, 'pos': 0.149, 'compound': 0.4215},\n",
       " {'neg': 0.0, 'neu': 1.0, 'pos': 0.0, 'compound': 0.0},\n",
       " {'neg': 0.147, 'neu': 0.649, 'pos': 0.204, 'compound': 0.3369},\n",
       " {'neg': 0.125, 'neu': 0.558, 'pos': 0.317, 'compound': 0.7621},\n",
       " {'neg': 0.0, 'neu': 0.711, 'pos': 0.289, 'compound': 0.7579},\n",
       " {'neg': 0.181, 'neu': 0.686, 'pos': 0.132, 'compound': -0.6124},\n",
       " {'neg': 0.183, 'neu': 0.817, 'pos': 0.0, 'compound': -0.7579},\n",
       " {'neg': 0.0, 'neu': 0.661, 'pos': 0.339, 'compound': 0.9466},\n",
       " {'neg': 0.0, 'neu': 1.0, 'pos': 0.0, 'compound': 0.0},\n",
       " {'neg': 0.0, 'neu': 0.857, 'pos': 0.143, 'compound': 0.3612},\n",
       " {'neg': 0.0, 'neu': 0.454, 'pos': 0.546, 'compound': 0.8029},\n",
       " {'neg': 0.0, 'neu': 0.679, 'pos': 0.321, 'compound': 0.7265},\n",
       " {'neg': 0.0, 'neu': 0.329, 'pos': 0.671, 'compound': 0.9219},\n",
       " {'neg': 0.352, 'neu': 0.648, 'pos': 0.0, 'compound': -0.8225},\n",
       " {'neg': 0.0, 'neu': 1.0, 'pos': 0.0, 'compound': 0.0},\n",
       " {'neg': 0.0, 'neu': 1.0, 'pos': 0.0, 'compound': 0.0},\n",
       " {'neg': 0.0, 'neu': 0.73, 'pos': 0.27, 'compound': 0.8599},\n",
       " {'neg': 0.0, 'neu': 1.0, 'pos': 0.0, 'compound': 0.0},\n",
       " {'neg': 0.0, 'neu': 0.711, 'pos': 0.289, 'compound': 0.7579},\n",
       " {'neg': 0.108, 'neu': 0.716, 'pos': 0.176, 'compound': 0.5423},\n",
       " {'neg': 0.0, 'neu': 0.614, 'pos': 0.386, 'compound': 0.5267},\n",
       " {'neg': 0.0, 'neu': 0.692, 'pos': 0.308, 'compound': 0.836},\n",
       " {'neg': 0.0, 'neu': 0.58, 'pos': 0.42, 'compound': 0.4404},\n",
       " {'neg': 0.0, 'neu': 1.0, 'pos': 0.0, 'compound': 0.0},\n",
       " {'neg': 0.0, 'neu': 0.44, 'pos': 0.56, 'compound': 0.8356},\n",
       " {'neg': 0.129, 'neu': 0.645, 'pos': 0.227, 'compound': 0.659},\n",
       " {'neg': 0.0, 'neu': 0.614, 'pos': 0.386, 'compound': 0.6588},\n",
       " {'neg': 0.078, 'neu': 0.709, 'pos': 0.213, 'compound': 0.5574},\n",
       " {'neg': 0.124, 'neu': 0.767, 'pos': 0.108, 'compound': -0.1548},\n",
       " {'neg': 0.0, 'neu': 0.687, 'pos': 0.313, 'compound': 0.6249},\n",
       " {'neg': 0.0, 'neu': 1.0, 'pos': 0.0, 'compound': 0.0},\n",
       " {'neg': 0.328, 'neu': 0.672, 'pos': 0.0, 'compound': -0.4449},\n",
       " {'neg': 0.0, 'neu': 1.0, 'pos': 0.0, 'compound': 0.0},\n",
       " {'neg': 0.0, 'neu': 0.584, 'pos': 0.416, 'compound': 0.9153},\n",
       " {'neg': 0.0, 'neu': 0.423, 'pos': 0.577, 'compound': 0.923},\n",
       " {'neg': 0.0, 'neu': 0.448, 'pos': 0.552, 'compound': 0.9017},\n",
       " {'neg': 0.0, 'neu': 0.596, 'pos': 0.404, 'compound': 0.9538},\n",
       " {'neg': 0.101, 'neu': 0.672, 'pos': 0.228, 'compound': 0.5272},\n",
       " {'neg': 0.0, 'neu': 0.423, 'pos': 0.577, 'compound': 0.6249},\n",
       " {'neg': 0.0, 'neu': 0.654, 'pos': 0.346, 'compound': 0.8402},\n",
       " {'neg': 0.353, 'neu': 0.441, 'pos': 0.206, 'compound': -0.4588},\n",
       " {'neg': 0.159, 'neu': 0.841, 'pos': 0.0, 'compound': -0.1779},\n",
       " {'neg': 0.0, 'neu': 0.688, 'pos': 0.312, 'compound': 0.9637},\n",
       " {'neg': 0.0, 'neu': 0.556, 'pos': 0.444, 'compound': 0.5848},\n",
       " {'neg': 0.0, 'neu': 0.672, 'pos': 0.328, 'compound': 0.658},\n",
       " {'neg': 0.32, 'neu': 0.501, 'pos': 0.179, 'compound': -0.4545},\n",
       " {'neg': 0.0, 'neu': 0.813, 'pos': 0.187, 'compound': 0.7845},\n",
       " {'neg': 0.0, 'neu': 0.748, 'pos': 0.252, 'compound': 0.4005},\n",
       " {'neg': 0.0, 'neu': 1.0, 'pos': 0.0, 'compound': 0.0},\n",
       " {'neg': 0.25, 'neu': 0.273, 'pos': 0.477, 'compound': 0.7798},\n",
       " {'neg': 0.0, 'neu': 0.826, 'pos': 0.174, 'compound': 0.5859},\n",
       " {'neg': 0.0, 'neu': 0.685, 'pos': 0.315, 'compound': 0.3182},\n",
       " {'neg': 0.198, 'neu': 0.802, 'pos': 0.0, 'compound': -0.6892},\n",
       " {'neg': 0.0, 'neu': 0.78, 'pos': 0.22, 'compound': 0.7469},\n",
       " {'neg': 0.302, 'neu': 0.698, 'pos': 0.0, 'compound': -0.3818},\n",
       " {'neg': 0.0, 'neu': 0.943, 'pos': 0.057, 'compound': 0.4559},\n",
       " {'neg': 0.0, 'neu': 0.635, 'pos': 0.365, 'compound': 0.902},\n",
       " {'neg': 0.0, 'neu': 1.0, 'pos': 0.0, 'compound': 0.0},\n",
       " {'neg': 0.199, 'neu': 0.588, 'pos': 0.213, 'compound': 0.0516},\n",
       " {'neg': 0.0, 'neu': 1.0, 'pos': 0.0, 'compound': 0.0},\n",
       " {'neg': 0.114, 'neu': 0.763, 'pos': 0.122, 'compound': -0.1258},\n",
       " {'neg': 0.0, 'neu': 0.503, 'pos': 0.497, 'compound': 0.836},\n",
       " {'neg': 0.0, 'neu': 1.0, 'pos': 0.0, 'compound': 0.0},\n",
       " {'neg': 0.162, 'neu': 0.738, 'pos': 0.1, 'compound': -0.1779},\n",
       " {'neg': 0.0, 'neu': 0.766, 'pos': 0.234, 'compound': 0.6697},\n",
       " {'neg': 0.0, 'neu': 1.0, 'pos': 0.0, 'compound': 0.0},\n",
       " {'neg': 0.0, 'neu': 0.325, 'pos': 0.675, 'compound': 0.8519},\n",
       " {'neg': 0.0, 'neu': 0.673, 'pos': 0.327, 'compound': 0.6565},\n",
       " {'neg': 0.0, 'neu': 0.889, 'pos': 0.111, 'compound': 0.4572},\n",
       " {'neg': 0.28, 'neu': 0.72, 'pos': 0.0, 'compound': -0.3254},\n",
       " {'neg': 0.069, 'neu': 0.813, 'pos': 0.118, 'compound': 0.296},\n",
       " {'neg': 0.0, 'neu': 0.8, 'pos': 0.2, 'compound': 0.7579},\n",
       " {'neg': 0.0, 'neu': 0.724, 'pos': 0.276, 'compound': 0.8552},\n",
       " {'neg': 0.0, 'neu': 1.0, 'pos': 0.0, 'compound': 0.0},\n",
       " {'neg': 0.142, 'neu': 0.737, 'pos': 0.121, 'compound': -0.1027},\n",
       " {'neg': 0.0, 'neu': 0.661, 'pos': 0.339, 'compound': 0.6249},\n",
       " {'neg': 0.168, 'neu': 0.62, 'pos': 0.212, 'compound': 0.7041},\n",
       " {'neg': 0.0, 'neu': 0.508, 'pos': 0.492, 'compound': 0.4404},\n",
       " {'neg': 0.0, 'neu': 0.406, 'pos': 0.594, 'compound': 0.658},\n",
       " {'neg': 0.0, 'neu': 1.0, 'pos': 0.0, 'compound': 0.0},\n",
       " {'neg': 0.082, 'neu': 0.789, 'pos': 0.129, 'compound': 0.3315},\n",
       " {'neg': 0.0, 'neu': 0.739, 'pos': 0.261, 'compound': 0.5574},\n",
       " {'neg': 0.0, 'neu': 0.667, 'pos': 0.333, 'compound': 0.8176},\n",
       " {'neg': 0.0, 'neu': 0.769, 'pos': 0.231, 'compound': 0.6369},\n",
       " {'neg': 0.0, 'neu': 1.0, 'pos': 0.0, 'compound': 0.0},\n",
       " {'neg': 0.0, 'neu': 0.821, 'pos': 0.179, 'compound': 0.7906},\n",
       " {'neg': 0.0, 'neu': 0.672, 'pos': 0.328, 'compound': 0.8516},\n",
       " {'neg': 0.0, 'neu': 0.588, 'pos': 0.412, 'compound': 0.5994},\n",
       " {'neg': 0.0, 'neu': 0.679, 'pos': 0.321, 'compound': 0.9223},\n",
       " {'neg': 0.0, 'neu': 0.757, 'pos': 0.243, 'compound': 0.6997},\n",
       " {'neg': 0.0, 'neu': 0.61, 'pos': 0.39, 'compound': 0.7701},\n",
       " {'neg': 0.173, 'neu': 0.72, 'pos': 0.107, 'compound': -0.5429},\n",
       " {'neg': 0.0, 'neu': 0.735, 'pos': 0.265, 'compound': 0.8807},\n",
       " {'neg': 0.0, 'neu': 0.629, 'pos': 0.371, 'compound': 0.6486},\n",
       " {'neg': 0.113, 'neu': 0.887, 'pos': 0.0, 'compound': -0.5538},\n",
       " {'neg': 0.0, 'neu': 0.435, 'pos': 0.565, 'compound': 0.5994},\n",
       " {'neg': 0.0, 'neu': 0.885, 'pos': 0.115, 'compound': 0.0772},\n",
       " {'neg': 0.0, 'neu': 0.752, 'pos': 0.248, 'compound': 0.8619},\n",
       " {'neg': 0.0, 'neu': 0.69, 'pos': 0.31, 'compound': 0.4019},\n",
       " {'neg': 0.0, 'neu': 0.841, 'pos': 0.159, 'compound': 0.6948},\n",
       " {'neg': 0.0, 'neu': 0.645, 'pos': 0.355, 'compound': 0.6697},\n",
       " {'neg': 0.0, 'neu': 0.576, 'pos': 0.424, 'compound': 0.7096},\n",
       " {'neg': 0.07, 'neu': 0.803, 'pos': 0.126, 'compound': 0.3222},\n",
       " {'neg': 0.103, 'neu': 0.845, 'pos': 0.053, 'compound': -0.4588},\n",
       " {'neg': 0.169, 'neu': 0.602, 'pos': 0.229, 'compound': 0.25},\n",
       " {'neg': 0.249, 'neu': 0.529, 'pos': 0.222, 'compound': 0.128},\n",
       " {'neg': 0.061, 'neu': 0.571, 'pos': 0.368, 'compound': 0.9846},\n",
       " {'neg': 0.0, 'neu': 1.0, 'pos': 0.0, 'compound': 0.0},\n",
       " {'neg': 0.0, 'neu': 0.706, 'pos': 0.294, 'compound': 0.8462},\n",
       " {'neg': 0.0, 'neu': 0.625, 'pos': 0.375, 'compound': 0.802},\n",
       " {'neg': 0.0, 'neu': 0.786, 'pos': 0.214, 'compound': 0.7783},\n",
       " {'neg': 0.0, 'neu': 1.0, 'pos': 0.0, 'compound': 0.0},\n",
       " {'neg': 0.181, 'neu': 0.601, 'pos': 0.218, 'compound': 0.1265},\n",
       " {'neg': 0.0, 'neu': 0.58, 'pos': 0.42, 'compound': 0.4404},\n",
       " {'neg': 0.0, 'neu': 0.643, 'pos': 0.357, 'compound': 0.8302},\n",
       " {'neg': 0.0, 'neu': 0.581, 'pos': 0.419, 'compound': 0.8999},\n",
       " {'neg': 0.343, 'neu': 0.294, 'pos': 0.363, 'compound': 0.1027},\n",
       " {'neg': 0.137, 'neu': 0.763, 'pos': 0.1, 'compound': -0.2263},\n",
       " {'neg': 0.0, 'neu': 0.654, 'pos': 0.346, 'compound': 0.6478},\n",
       " {'neg': 0.0, 'neu': 0.949, 'pos': 0.051, 'compound': 0.0772},\n",
       " {'neg': 0.0, 'neu': 0.742, 'pos': 0.258, 'compound': 0.5399},\n",
       " {'neg': 0.0, 'neu': 1.0, 'pos': 0.0, 'compound': 0.0},\n",
       " {'neg': 0.0, 'neu': 0.579, 'pos': 0.421, 'compound': 0.8061},\n",
       " {'neg': 0.079, 'neu': 0.742, 'pos': 0.179, 'compound': 0.5994},\n",
       " {'neg': 0.063, 'neu': 0.766, 'pos': 0.171, 'compound': 0.5267},\n",
       " {'neg': 0.0, 'neu': 0.575, 'pos': 0.425, 'compound': 0.4019},\n",
       " {'neg': 0.0, 'neu': 0.884, 'pos': 0.116, 'compound': 0.4404},\n",
       " {'neg': 0.0, 'neu': 0.478, 'pos': 0.522, 'compound': 0.8979},\n",
       " {'neg': 0.082, 'neu': 0.562, 'pos': 0.357, 'compound': 0.7494},\n",
       " {'neg': 0.0, 'neu': 1.0, 'pos': 0.0, 'compound': 0.0},\n",
       " {'neg': 0.0, 'neu': 0.86, 'pos': 0.14, 'compound': 0.0772},\n",
       " {'neg': 0.346, 'neu': 0.654, 'pos': 0.0, 'compound': -0.6418},\n",
       " {'neg': 0.166, 'neu': 0.536, 'pos': 0.298, 'compound': 0.6284},\n",
       " {'neg': 0.0, 'neu': 0.935, 'pos': 0.065, 'compound': 0.2682},\n",
       " {'neg': 0.0, 'neu': 0.528, 'pos': 0.472, 'compound': 0.5528},\n",
       " {'neg': 0.039, 'neu': 0.961, 'pos': 0.0, 'compound': -0.0772},\n",
       " {'neg': 0.042, 'neu': 0.607, 'pos': 0.351, 'compound': 0.9501},\n",
       " {'neg': 0.0, 'neu': 0.739, 'pos': 0.261, 'compound': 0.7178},\n",
       " {'neg': 0.0, 'neu': 1.0, 'pos': 0.0, 'compound': 0.0},\n",
       " {'neg': 0.0, 'neu': 0.786, 'pos': 0.214, 'compound': 0.4588},\n",
       " {'neg': 0.176, 'neu': 0.776, 'pos': 0.048, 'compound': -0.6679},\n",
       " {'neg': 0.108, 'neu': 0.787, 'pos': 0.105, 'compound': -0.0276},\n",
       " {'neg': 0.0, 'neu': 0.583, 'pos': 0.417, 'compound': 0.6124},\n",
       " {'neg': 0.0, 'neu': 0.912, 'pos': 0.088, 'compound': 0.3802},\n",
       " {'neg': 0.0, 'neu': 0.805, 'pos': 0.195, 'compound': 0.4404},\n",
       " {'neg': 0.254, 'neu': 0.538, 'pos': 0.208, 'compound': -0.1531},\n",
       " {'neg': 0.0, 'neu': 0.52, 'pos': 0.48, 'compound': 0.6741},\n",
       " {'neg': 0.0, 'neu': 0.562, 'pos': 0.438, 'compound': 0.7906},\n",
       " {'neg': 0.0, 'neu': 0.813, 'pos': 0.187, 'compound': 0.7103},\n",
       " {'neg': 0.085, 'neu': 0.796, 'pos': 0.119, 'compound': 0.2975},\n",
       " {'neg': 0.0, 'neu': 0.761, 'pos': 0.239, 'compound': 0.624},\n",
       " {'neg': 0.0, 'neu': 0.661, 'pos': 0.339, 'compound': 0.9466},\n",
       " {'neg': 0.0, 'neu': 0.689, 'pos': 0.311, 'compound': 0.9201},\n",
       " {'neg': 0.0, 'neu': 0.775, 'pos': 0.225, 'compound': 0.4404},\n",
       " {'neg': 0.0, 'neu': 0.689, 'pos': 0.311, 'compound': 0.9201},\n",
       " {'neg': 0.0, 'neu': 0.323, 'pos': 0.677, 'compound': 0.6369},\n",
       " {'neg': 0.0, 'neu': 0.8, 'pos': 0.2, 'compound': 0.5411},\n",
       " {'neg': 0.0, 'neu': 1.0, 'pos': 0.0, 'compound': 0.0},\n",
       " {'neg': 0.0, 'neu': 0.515, 'pos': 0.485, 'compound': 0.8585},\n",
       " {'neg': 0.0, 'neu': 0.426, 'pos': 0.574, 'compound': 0.6597},\n",
       " {'neg': 0.0, 'neu': 1.0, 'pos': 0.0, 'compound': 0.0},\n",
       " {'neg': 0.0, 'neu': 0.513, 'pos': 0.487, 'compound': 0.8225},\n",
       " {'neg': 0.0, 'neu': 0.937, 'pos': 0.063, 'compound': 0.5673},\n",
       " {'neg': 0.0, 'neu': 0.359, 'pos': 0.641, 'compound': 0.8658},\n",
       " {'neg': 0.0, 'neu': 1.0, 'pos': 0.0, 'compound': 0.0},\n",
       " {'neg': 0.0, 'neu': 0.406, 'pos': 0.594, 'compound': 0.6588},\n",
       " {'neg': 0.0, 'neu': 0.815, 'pos': 0.185, 'compound': 0.3612},\n",
       " {'neg': 0.115, 'neu': 0.505, 'pos': 0.38, 'compound': 0.782},\n",
       " {'neg': 0.088, 'neu': 0.643, 'pos': 0.269, 'compound': 0.8796},\n",
       " {'neg': 0.099, 'neu': 0.663, 'pos': 0.238, 'compound': 0.3612},\n",
       " {'neg': 0.0, 'neu': 0.626, 'pos': 0.374, 'compound': 0.8797},\n",
       " {'neg': 0.234, 'neu': 0.56, 'pos': 0.206, 'compound': -0.431},\n",
       " {'neg': 0.0, 'neu': 0.867, 'pos': 0.133, 'compound': 0.25},\n",
       " {'neg': 0.0, 'neu': 0.661, 'pos': 0.339, 'compound': 0.9466},\n",
       " {'neg': 0.0, 'neu': 1.0, 'pos': 0.0, 'compound': 0.0},\n",
       " {'neg': 0.0, 'neu': 0.76, 'pos': 0.24, 'compound': 0.6249},\n",
       " {'neg': 0.037, 'neu': 0.486, 'pos': 0.477, 'compound': 0.9468},\n",
       " {'neg': 0.0, 'neu': 0.551, 'pos': 0.449, 'compound': 0.8384},\n",
       " {'neg': 0.106, 'neu': 0.894, 'pos': 0.0, 'compound': -0.3818},\n",
       " {'neg': 0.11, 'neu': 0.718, 'pos': 0.172, 'compound': 0.3167},\n",
       " {'neg': 0.0, 'neu': 0.891, 'pos': 0.109, 'compound': 0.296},\n",
       " {'neg': 0.0, 'neu': 0.924, 'pos': 0.076, 'compound': 0.4019},\n",
       " {'neg': 0.0, 'neu': 0.943, 'pos': 0.057, 'compound': 0.4559},\n",
       " {'neg': 0.0, 'neu': 0.678, 'pos': 0.322, 'compound': 0.6467},\n",
       " {'neg': 0.414, 'neu': 0.586, 'pos': 0.0, 'compound': -0.2769},\n",
       " {'neg': 0.0, 'neu': 0.656, 'pos': 0.344, 'compound': 0.6369},\n",
       " {'neg': 0.0, 'neu': 0.579, 'pos': 0.421, 'compound': 0.6249},\n",
       " {'neg': 0.063, 'neu': 0.937, 'pos': 0.0, 'compound': -0.2363},\n",
       " {'neg': 0.0, 'neu': 1.0, 'pos': 0.0, 'compound': 0.0},\n",
       " {'neg': 0.0, 'neu': 0.795, 'pos': 0.205, 'compound': 0.2023},\n",
       " {'neg': 0.135, 'neu': 0.798, 'pos': 0.067, 'compound': -0.2732},\n",
       " {'neg': 0.0, 'neu': 0.588, 'pos': 0.412, 'compound': 0.6808},\n",
       " {'neg': 0.0, 'neu': 0.235, 'pos': 0.765, 'compound': 0.7579},\n",
       " {'neg': 0.059, 'neu': 0.552, 'pos': 0.389, 'compound': 0.8537},\n",
       " {'neg': 0.0, 'neu': 1.0, 'pos': 0.0, 'compound': 0.0},\n",
       " {'neg': 0.0, 'neu': 1.0, 'pos': 0.0, 'compound': 0.0},\n",
       " {'neg': 0.0, 'neu': 1.0, 'pos': 0.0, 'compound': 0.0},\n",
       " {'neg': 0.126, 'neu': 0.599, 'pos': 0.275, 'compound': 0.5007},\n",
       " {'neg': 0.088, 'neu': 0.679, 'pos': 0.234, 'compound': 0.7842},\n",
       " {'neg': 0.033, 'neu': 0.626, 'pos': 0.341, 'compound': 0.9849},\n",
       " {'neg': 0.0, 'neu': 0.58, 'pos': 0.42, 'compound': 0.8658},\n",
       " {'neg': 0.0, 'neu': 0.345, 'pos': 0.655, 'compound': 0.5859},\n",
       " {'neg': 0.0, 'neu': 0.524, 'pos': 0.476, 'compound': 0.8442},\n",
       " {'neg': 0.0, 'neu': 0.725, 'pos': 0.275, 'compound': 0.5859},\n",
       " {'neg': 0.0, 'neu': 1.0, 'pos': 0.0, 'compound': 0.0},\n",
       " {'neg': 0.084, 'neu': 0.654, 'pos': 0.262, 'compound': 0.926},\n",
       " {'neg': 0.0, 'neu': 0.588, 'pos': 0.412, 'compound': 0.743},\n",
       " {'neg': 0.0, 'neu': 0.762, 'pos': 0.238, 'compound': 0.3612},\n",
       " {'neg': 0.0, 'neu': 1.0, 'pos': 0.0, 'compound': 0.0},\n",
       " {'neg': 0.077, 'neu': 0.654, 'pos': 0.27, 'compound': 0.7778},\n",
       " {'neg': 0.0, 'neu': 0.723, 'pos': 0.277, 'compound': 0.3182},\n",
       " {'neg': 0.0, 'neu': 0.758, 'pos': 0.242, 'compound': 0.8718},\n",
       " {'neg': 0.08, 'neu': 0.92, 'pos': 0.0, 'compound': -0.0772},\n",
       " {'neg': 0.0, 'neu': 0.847, 'pos': 0.153, 'compound': 0.6801},\n",
       " {'neg': 0.0, 'neu': 0.433, 'pos': 0.567, 'compound': 0.8798},\n",
       " {'neg': 0.0, 'neu': 0.641, 'pos': 0.359, 'compound': 0.4215},\n",
       " {'neg': 0.0, 'neu': 0.73, 'pos': 0.27, 'compound': 0.7124},\n",
       " {'neg': 0.0, 'neu': 0.778, 'pos': 0.222, 'compound': 0.8402},\n",
       " {'neg': 0.385, 'neu': 0.342, 'pos': 0.274, 'compound': -0.0772},\n",
       " {'neg': 0.083, 'neu': 0.687, 'pos': 0.23, 'compound': 0.6369},\n",
       " {'neg': 0.0, 'neu': 0.763, 'pos': 0.237, 'compound': 0.3578},\n",
       " {'neg': 0.0, 'neu': 1.0, 'pos': 0.0, 'compound': 0.0},\n",
       " {'neg': 0.0, 'neu': 0.749, 'pos': 0.251, 'compound': 0.7199},\n",
       " {'neg': 0.0, 'neu': 0.766, 'pos': 0.234, 'compound': 0.6697},\n",
       " {'neg': 0.0, 'neu': 0.82, 'pos': 0.18, 'compound': 0.296},\n",
       " {'neg': 0.0, 'neu': 1.0, 'pos': 0.0, 'compound': 0.0},\n",
       " {'neg': 0.0, 'neu': 0.656, 'pos': 0.344, 'compound': 0.2732},\n",
       " {'neg': 0.0, 'neu': 1.0, 'pos': 0.0, 'compound': 0.0},\n",
       " {'neg': 0.0, 'neu': 1.0, 'pos': 0.0, 'compound': 0.0},\n",
       " {'neg': 0.0, 'neu': 0.791, 'pos': 0.209, 'compound': 0.765},\n",
       " {'neg': 0.108, 'neu': 0.774, 'pos': 0.118, 'compound': 0.0772},\n",
       " {'neg': 0.0, 'neu': 0.432, 'pos': 0.568, 'compound': 0.8357},\n",
       " {'neg': 0.0, 'neu': 1.0, 'pos': 0.0, 'compound': 0.0},\n",
       " {'neg': 0.142, 'neu': 0.71, 'pos': 0.148, 'compound': 0.0258},\n",
       " {'neg': 0.069, 'neu': 0.682, 'pos': 0.248, 'compound': 0.4847}]"
      ]
     },
     "execution_count": 14,
     "metadata": {},
     "output_type": "execute_result"
    }
   ],
   "source": [
    "[sentiments.polarity_scores(i) for i in data['Comment']]"
   ]
  },
  {
   "cell_type": "code",
   "execution_count": 15,
   "id": "36c0ec4a",
   "metadata": {},
   "outputs": [
    {
     "data": {
      "text/html": [
       "<div>\n",
       "<style scoped>\n",
       "    .dataframe tbody tr th:only-of-type {\n",
       "        vertical-align: middle;\n",
       "    }\n",
       "\n",
       "    .dataframe tbody tr th {\n",
       "        vertical-align: top;\n",
       "    }\n",
       "\n",
       "    .dataframe thead th {\n",
       "        text-align: right;\n",
       "    }\n",
       "</style>\n",
       "<table border=\"1\" class=\"dataframe\">\n",
       "  <thead>\n",
       "    <tr style=\"text-align: right;\">\n",
       "      <th></th>\n",
       "      <th>Comment</th>\n",
       "      <th>Positive</th>\n",
       "    </tr>\n",
       "  </thead>\n",
       "  <tbody>\n",
       "    <tr>\n",
       "      <th>0</th>\n",
       "      <td>Love how Dr. Fate's design looks and how cool ...</td>\n",
       "      <td>0.384</td>\n",
       "    </tr>\n",
       "    <tr>\n",
       "      <th>1</th>\n",
       "      <td>I can’t get over how good everything looks. Dr...</td>\n",
       "      <td>0.153</td>\n",
       "    </tr>\n",
       "    <tr>\n",
       "      <th>2</th>\n",
       "      <td>Really hoping that this can save DC's movie un...</td>\n",
       "      <td>0.375</td>\n",
       "    </tr>\n",
       "    <tr>\n",
       "      <th>3</th>\n",
       "      <td>U cant deny how good this looks.Now if they ca...</td>\n",
       "      <td>0.302</td>\n",
       "    </tr>\n",
       "    <tr>\n",
       "      <th>4</th>\n",
       "      <td>From this trailer, I have a feeling that this ...</td>\n",
       "      <td>0.131</td>\n",
       "    </tr>\n",
       "  </tbody>\n",
       "</table>\n",
       "</div>"
      ],
      "text/plain": [
       "                                             Comment  Positive\n",
       "0  Love how Dr. Fate's design looks and how cool ...     0.384\n",
       "1  I can’t get over how good everything looks. Dr...     0.153\n",
       "2  Really hoping that this can save DC's movie un...     0.375\n",
       "3  U cant deny how good this looks.Now if they ca...     0.302\n",
       "4  From this trailer, I have a feeling that this ...     0.131"
      ]
     },
     "execution_count": 15,
     "metadata": {},
     "output_type": "execute_result"
    }
   ],
   "source": [
    "data.head()"
   ]
  },
  {
   "cell_type": "code",
   "execution_count": 16,
   "id": "7228be40",
   "metadata": {},
   "outputs": [],
   "source": [
    "data['Negative'] = [sentiments.polarity_scores(i)['neg'] for i in data['Comment']]\n",
    "data['Neutral'] = [sentiments.polarity_scores(i)['neu'] for i in data['Comment']]\n",
    "data['Compound'] = [sentiments.polarity_scores(i)['compound'] for i in data['Comment']]"
   ]
  },
  {
   "cell_type": "code",
   "execution_count": 17,
   "id": "ad732ab9",
   "metadata": {},
   "outputs": [
    {
     "data": {
      "text/html": [
       "<div>\n",
       "<style scoped>\n",
       "    .dataframe tbody tr th:only-of-type {\n",
       "        vertical-align: middle;\n",
       "    }\n",
       "\n",
       "    .dataframe tbody tr th {\n",
       "        vertical-align: top;\n",
       "    }\n",
       "\n",
       "    .dataframe thead th {\n",
       "        text-align: right;\n",
       "    }\n",
       "</style>\n",
       "<table border=\"1\" class=\"dataframe\">\n",
       "  <thead>\n",
       "    <tr style=\"text-align: right;\">\n",
       "      <th></th>\n",
       "      <th>Comment</th>\n",
       "      <th>Positive</th>\n",
       "      <th>Negative</th>\n",
       "      <th>Neutral</th>\n",
       "      <th>Compound</th>\n",
       "    </tr>\n",
       "  </thead>\n",
       "  <tbody>\n",
       "    <tr>\n",
       "      <th>0</th>\n",
       "      <td>Love how Dr. Fate's design looks and how cool ...</td>\n",
       "      <td>0.384</td>\n",
       "      <td>0.000</td>\n",
       "      <td>0.616</td>\n",
       "      <td>0.8910</td>\n",
       "    </tr>\n",
       "    <tr>\n",
       "      <th>1</th>\n",
       "      <td>I can’t get over how good everything looks. Dr...</td>\n",
       "      <td>0.153</td>\n",
       "      <td>0.000</td>\n",
       "      <td>0.847</td>\n",
       "      <td>0.6801</td>\n",
       "    </tr>\n",
       "    <tr>\n",
       "      <th>2</th>\n",
       "      <td>Really hoping that this can save DC's movie un...</td>\n",
       "      <td>0.375</td>\n",
       "      <td>0.000</td>\n",
       "      <td>0.625</td>\n",
       "      <td>0.9216</td>\n",
       "    </tr>\n",
       "    <tr>\n",
       "      <th>3</th>\n",
       "      <td>U cant deny how good this looks.Now if they ca...</td>\n",
       "      <td>0.302</td>\n",
       "      <td>0.049</td>\n",
       "      <td>0.649</td>\n",
       "      <td>0.9262</td>\n",
       "    </tr>\n",
       "    <tr>\n",
       "      <th>4</th>\n",
       "      <td>From this trailer, I have a feeling that this ...</td>\n",
       "      <td>0.131</td>\n",
       "      <td>0.000</td>\n",
       "      <td>0.869</td>\n",
       "      <td>0.4416</td>\n",
       "    </tr>\n",
       "  </tbody>\n",
       "</table>\n",
       "</div>"
      ],
      "text/plain": [
       "                                             Comment  Positive  Negative  \\\n",
       "0  Love how Dr. Fate's design looks and how cool ...     0.384     0.000   \n",
       "1  I can’t get over how good everything looks. Dr...     0.153     0.000   \n",
       "2  Really hoping that this can save DC's movie un...     0.375     0.000   \n",
       "3  U cant deny how good this looks.Now if they ca...     0.302     0.049   \n",
       "4  From this trailer, I have a feeling that this ...     0.131     0.000   \n",
       "\n",
       "   Neutral  Compound  \n",
       "0    0.616    0.8910  \n",
       "1    0.847    0.6801  \n",
       "2    0.625    0.9216  \n",
       "3    0.649    0.9262  \n",
       "4    0.869    0.4416  "
      ]
     },
     "execution_count": 17,
     "metadata": {},
     "output_type": "execute_result"
    }
   ],
   "source": [
    "data.head()"
   ]
  },
  {
   "cell_type": "code",
   "execution_count": 18,
   "id": "41fc761d",
   "metadata": {},
   "outputs": [],
   "source": [
    "# Dividing the comments into positive,negative and neutral\n",
    "score = data['Compound'].values"
   ]
  },
  {
   "cell_type": "code",
   "execution_count": 19,
   "id": "a0f78ae5",
   "metadata": {},
   "outputs": [
    {
     "data": {
      "text/plain": [
       "array([ 0.891 ,  0.6801,  0.9216,  0.9262,  0.4416,  0.9501, -0.6002,\n",
       "        0.3071,  0.2714,  0.902 , -0.886 ,  0.973 ,  0.7103,  0.7319,\n",
       "        0.6573,  0.624 ,  0.6028, -0.2782,  0.8999,  0.    , -0.5154,\n",
       "        0.8713, -0.1531,  0.5374,  0.9133,  0.5229, -0.2584,  0.9039,\n",
       "        0.9638,  0.6808,  0.7481,  0.5911,  0.8834,  0.3182,  0.4404,\n",
       "        0.7579,  0.8949,  0.8116, -0.5574,  0.9567,  0.631 ,  0.34  ,\n",
       "        0.6892,  0.7495,  0.8925,  0.4215,  0.    ,  0.3369,  0.7621,\n",
       "        0.7579, -0.6124, -0.7579,  0.9466,  0.    ,  0.3612,  0.8029,\n",
       "        0.7265,  0.9219, -0.8225,  0.    ,  0.    ,  0.8599,  0.    ,\n",
       "        0.7579,  0.5423,  0.5267,  0.836 ,  0.4404,  0.    ,  0.8356,\n",
       "        0.659 ,  0.6588,  0.5574, -0.1548,  0.6249,  0.    , -0.4449,\n",
       "        0.    ,  0.9153,  0.923 ,  0.9017,  0.9538,  0.5272,  0.6249,\n",
       "        0.8402, -0.4588, -0.1779,  0.9637,  0.5848,  0.658 , -0.4545,\n",
       "        0.7845,  0.4005,  0.    ,  0.7798,  0.5859,  0.3182, -0.6892,\n",
       "        0.7469, -0.3818,  0.4559,  0.902 ,  0.    ,  0.0516,  0.    ,\n",
       "       -0.1258,  0.836 ,  0.    , -0.1779,  0.6697,  0.    ,  0.8519,\n",
       "        0.6565,  0.4572, -0.3254,  0.296 ,  0.7579,  0.8552,  0.    ,\n",
       "       -0.1027,  0.6249,  0.7041,  0.4404,  0.658 ,  0.    ,  0.3315,\n",
       "        0.5574,  0.8176,  0.6369,  0.    ,  0.7906,  0.8516,  0.5994,\n",
       "        0.9223,  0.6997,  0.7701, -0.5429,  0.8807,  0.6486, -0.5538,\n",
       "        0.5994,  0.0772,  0.8619,  0.4019,  0.6948,  0.6697,  0.7096,\n",
       "        0.3222, -0.4588,  0.25  ,  0.128 ,  0.9846,  0.    ,  0.8462,\n",
       "        0.802 ,  0.7783,  0.    ,  0.1265,  0.4404,  0.8302,  0.8999,\n",
       "        0.1027, -0.2263,  0.6478,  0.0772,  0.5399,  0.    ,  0.8061,\n",
       "        0.5994,  0.5267,  0.4019,  0.4404,  0.8979,  0.7494,  0.    ,\n",
       "        0.0772, -0.6418,  0.6284,  0.2682,  0.5528, -0.0772,  0.9501,\n",
       "        0.7178,  0.    ,  0.4588, -0.6679, -0.0276,  0.6124,  0.3802,\n",
       "        0.4404, -0.1531,  0.6741,  0.7906,  0.7103,  0.2975,  0.624 ,\n",
       "        0.9466,  0.9201,  0.4404,  0.9201,  0.6369,  0.5411,  0.    ,\n",
       "        0.8585,  0.6597,  0.    ,  0.8225,  0.5673,  0.8658,  0.    ,\n",
       "        0.6588,  0.3612,  0.782 ,  0.8796,  0.3612,  0.8797, -0.431 ,\n",
       "        0.25  ,  0.9466,  0.    ,  0.6249,  0.9468,  0.8384, -0.3818,\n",
       "        0.3167,  0.296 ,  0.4019,  0.4559,  0.6467, -0.2769,  0.6369,\n",
       "        0.6249, -0.2363,  0.    ,  0.2023, -0.2732,  0.6808,  0.7579,\n",
       "        0.8537,  0.    ,  0.    ,  0.    ,  0.5007,  0.7842,  0.9849,\n",
       "        0.8658,  0.5859,  0.8442,  0.5859,  0.    ,  0.926 ,  0.743 ,\n",
       "        0.3612,  0.    ,  0.7778,  0.3182,  0.8718, -0.0772,  0.6801,\n",
       "        0.8798,  0.4215,  0.7124,  0.8402, -0.0772,  0.6369,  0.3578,\n",
       "        0.    ,  0.7199,  0.6697,  0.296 ,  0.    ,  0.2732,  0.    ,\n",
       "        0.    ,  0.765 ,  0.0772,  0.8357,  0.    ,  0.0258,  0.4847])"
      ]
     },
     "execution_count": 19,
     "metadata": {},
     "output_type": "execute_result"
    }
   ],
   "source": [
    "score"
   ]
  },
  {
   "cell_type": "code",
   "execution_count": 20,
   "id": "c8815e62",
   "metadata": {},
   "outputs": [
    {
     "data": {
      "text/plain": [
       "(280,)"
      ]
     },
     "execution_count": 20,
     "metadata": {},
     "output_type": "execute_result"
    }
   ],
   "source": [
    "data['Compound'].values.shape"
   ]
  },
  {
   "cell_type": "code",
   "execution_count": 21,
   "id": "18726be4",
   "metadata": {},
   "outputs": [],
   "source": [
    "sentiment = []\n",
    "for i in score:\n",
    "    if i >= 0.05:\n",
    "        sentiment.append('Positive')\n",
    "    elif i <=-0.05:\n",
    "        sentiment.append('Negative')\n",
    "    else:\n",
    "        sentiment.append('Neutral')"
   ]
  },
  {
   "cell_type": "code",
   "execution_count": 22,
   "id": "e817d227",
   "metadata": {},
   "outputs": [],
   "source": [
    "data['Sentiment'] = pd.Series(sentiment)"
   ]
  },
  {
   "cell_type": "code",
   "execution_count": 23,
   "id": "339f14e9",
   "metadata": {},
   "outputs": [
    {
     "data": {
      "text/html": [
       "<div>\n",
       "<style scoped>\n",
       "    .dataframe tbody tr th:only-of-type {\n",
       "        vertical-align: middle;\n",
       "    }\n",
       "\n",
       "    .dataframe tbody tr th {\n",
       "        vertical-align: top;\n",
       "    }\n",
       "\n",
       "    .dataframe thead th {\n",
       "        text-align: right;\n",
       "    }\n",
       "</style>\n",
       "<table border=\"1\" class=\"dataframe\">\n",
       "  <thead>\n",
       "    <tr style=\"text-align: right;\">\n",
       "      <th></th>\n",
       "      <th>Comment</th>\n",
       "      <th>Positive</th>\n",
       "      <th>Negative</th>\n",
       "      <th>Neutral</th>\n",
       "      <th>Compound</th>\n",
       "      <th>Sentiment</th>\n",
       "    </tr>\n",
       "  </thead>\n",
       "  <tbody>\n",
       "    <tr>\n",
       "      <th>0</th>\n",
       "      <td>Love how Dr. Fate's design looks and how cool ...</td>\n",
       "      <td>0.384</td>\n",
       "      <td>0.000</td>\n",
       "      <td>0.616</td>\n",
       "      <td>0.8910</td>\n",
       "      <td>Positive</td>\n",
       "    </tr>\n",
       "    <tr>\n",
       "      <th>1</th>\n",
       "      <td>I can’t get over how good everything looks. Dr...</td>\n",
       "      <td>0.153</td>\n",
       "      <td>0.000</td>\n",
       "      <td>0.847</td>\n",
       "      <td>0.6801</td>\n",
       "      <td>Positive</td>\n",
       "    </tr>\n",
       "    <tr>\n",
       "      <th>2</th>\n",
       "      <td>Really hoping that this can save DC's movie un...</td>\n",
       "      <td>0.375</td>\n",
       "      <td>0.000</td>\n",
       "      <td>0.625</td>\n",
       "      <td>0.9216</td>\n",
       "      <td>Positive</td>\n",
       "    </tr>\n",
       "    <tr>\n",
       "      <th>3</th>\n",
       "      <td>U cant deny how good this looks.Now if they ca...</td>\n",
       "      <td>0.302</td>\n",
       "      <td>0.049</td>\n",
       "      <td>0.649</td>\n",
       "      <td>0.9262</td>\n",
       "      <td>Positive</td>\n",
       "    </tr>\n",
       "    <tr>\n",
       "      <th>4</th>\n",
       "      <td>From this trailer, I have a feeling that this ...</td>\n",
       "      <td>0.131</td>\n",
       "      <td>0.000</td>\n",
       "      <td>0.869</td>\n",
       "      <td>0.4416</td>\n",
       "      <td>Positive</td>\n",
       "    </tr>\n",
       "  </tbody>\n",
       "</table>\n",
       "</div>"
      ],
      "text/plain": [
       "                                             Comment  Positive  Negative  \\\n",
       "0  Love how Dr. Fate's design looks and how cool ...     0.384     0.000   \n",
       "1  I can’t get over how good everything looks. Dr...     0.153     0.000   \n",
       "2  Really hoping that this can save DC's movie un...     0.375     0.000   \n",
       "3  U cant deny how good this looks.Now if they ca...     0.302     0.049   \n",
       "4  From this trailer, I have a feeling that this ...     0.131     0.000   \n",
       "\n",
       "   Neutral  Compound Sentiment  \n",
       "0    0.616    0.8910  Positive  \n",
       "1    0.847    0.6801  Positive  \n",
       "2    0.625    0.9216  Positive  \n",
       "3    0.649    0.9262  Positive  \n",
       "4    0.869    0.4416  Positive  "
      ]
     },
     "execution_count": 23,
     "metadata": {},
     "output_type": "execute_result"
    }
   ],
   "source": [
    "data.head()"
   ]
  },
  {
   "cell_type": "code",
   "execution_count": 24,
   "id": "c9dd0549",
   "metadata": {},
   "outputs": [
    {
     "data": {
      "text/html": [
       "<div>\n",
       "<style scoped>\n",
       "    .dataframe tbody tr th:only-of-type {\n",
       "        vertical-align: middle;\n",
       "    }\n",
       "\n",
       "    .dataframe tbody tr th {\n",
       "        vertical-align: top;\n",
       "    }\n",
       "\n",
       "    .dataframe thead th {\n",
       "        text-align: right;\n",
       "    }\n",
       "</style>\n",
       "<table border=\"1\" class=\"dataframe\">\n",
       "  <thead>\n",
       "    <tr style=\"text-align: right;\">\n",
       "      <th></th>\n",
       "      <th>Comment</th>\n",
       "      <th>Positive</th>\n",
       "      <th>Negative</th>\n",
       "      <th>Neutral</th>\n",
       "      <th>Compound</th>\n",
       "      <th>Sentiment</th>\n",
       "    </tr>\n",
       "  </thead>\n",
       "  <tbody>\n",
       "    <tr>\n",
       "      <th>6</th>\n",
       "      <td>I have never been more hyped for a comic book ...</td>\n",
       "      <td>0.000</td>\n",
       "      <td>0.247</td>\n",
       "      <td>0.753</td>\n",
       "      <td>-0.6002</td>\n",
       "      <td>Negative</td>\n",
       "    </tr>\n",
       "    <tr>\n",
       "      <th>10</th>\n",
       "      <td>Anguish and Rage are the two of most dangerous...</td>\n",
       "      <td>0.095</td>\n",
       "      <td>0.193</td>\n",
       "      <td>0.712</td>\n",
       "      <td>-0.8860</td>\n",
       "      <td>Negative</td>\n",
       "    </tr>\n",
       "    <tr>\n",
       "      <th>17</th>\n",
       "      <td>So looks like it’s going to be Black Adam Vs t...</td>\n",
       "      <td>0.125</td>\n",
       "      <td>0.175</td>\n",
       "      <td>0.700</td>\n",
       "      <td>-0.2782</td>\n",
       "      <td>Negative</td>\n",
       "    </tr>\n",
       "    <tr>\n",
       "      <th>20</th>\n",
       "      <td>Can't wait to see more villain redemption. I w...</td>\n",
       "      <td>0.090</td>\n",
       "      <td>0.223</td>\n",
       "      <td>0.687</td>\n",
       "      <td>-0.5154</td>\n",
       "      <td>Negative</td>\n",
       "    </tr>\n",
       "    <tr>\n",
       "      <th>22</th>\n",
       "      <td>Finally something that is pure badass and no j...</td>\n",
       "      <td>0.129</td>\n",
       "      <td>0.224</td>\n",
       "      <td>0.647</td>\n",
       "      <td>-0.1531</td>\n",
       "      <td>Negative</td>\n",
       "    </tr>\n",
       "  </tbody>\n",
       "</table>\n",
       "</div>"
      ],
      "text/plain": [
       "                                              Comment  Positive  Negative  \\\n",
       "6   I have never been more hyped for a comic book ...     0.000     0.247   \n",
       "10  Anguish and Rage are the two of most dangerous...     0.095     0.193   \n",
       "17  So looks like it’s going to be Black Adam Vs t...     0.125     0.175   \n",
       "20  Can't wait to see more villain redemption. I w...     0.090     0.223   \n",
       "22  Finally something that is pure badass and no j...     0.129     0.224   \n",
       "\n",
       "    Neutral  Compound Sentiment  \n",
       "6     0.753   -0.6002  Negative  \n",
       "10    0.712   -0.8860  Negative  \n",
       "17    0.700   -0.2782  Negative  \n",
       "20    0.687   -0.5154  Negative  \n",
       "22    0.647   -0.1531  Negative  "
      ]
     },
     "execution_count": 24,
     "metadata": {},
     "output_type": "execute_result"
    }
   ],
   "source": [
    "data[data['Sentiment']== 'Negative'].head()"
   ]
  },
  {
   "cell_type": "code",
   "execution_count": 25,
   "id": "ece728b9",
   "metadata": {},
   "outputs": [
    {
     "data": {
      "text/html": [
       "<div>\n",
       "<style scoped>\n",
       "    .dataframe tbody tr th:only-of-type {\n",
       "        vertical-align: middle;\n",
       "    }\n",
       "\n",
       "    .dataframe tbody tr th {\n",
       "        vertical-align: top;\n",
       "    }\n",
       "\n",
       "    .dataframe thead th {\n",
       "        text-align: right;\n",
       "    }\n",
       "</style>\n",
       "<table border=\"1\" class=\"dataframe\">\n",
       "  <thead>\n",
       "    <tr style=\"text-align: right;\">\n",
       "      <th></th>\n",
       "      <th>Comment</th>\n",
       "      <th>Sentiment</th>\n",
       "    </tr>\n",
       "  </thead>\n",
       "  <tbody>\n",
       "    <tr>\n",
       "      <th>0</th>\n",
       "      <td>Love how Dr. Fate's design looks and how cool ...</td>\n",
       "      <td>Positive</td>\n",
       "    </tr>\n",
       "    <tr>\n",
       "      <th>1</th>\n",
       "      <td>I can’t get over how good everything looks. Dr...</td>\n",
       "      <td>Positive</td>\n",
       "    </tr>\n",
       "    <tr>\n",
       "      <th>2</th>\n",
       "      <td>Really hoping that this can save DC's movie un...</td>\n",
       "      <td>Positive</td>\n",
       "    </tr>\n",
       "    <tr>\n",
       "      <th>3</th>\n",
       "      <td>U cant deny how good this looks.Now if they ca...</td>\n",
       "      <td>Positive</td>\n",
       "    </tr>\n",
       "    <tr>\n",
       "      <th>4</th>\n",
       "      <td>From this trailer, I have a feeling that this ...</td>\n",
       "      <td>Positive</td>\n",
       "    </tr>\n",
       "  </tbody>\n",
       "</table>\n",
       "</div>"
      ],
      "text/plain": [
       "                                             Comment Sentiment\n",
       "0  Love how Dr. Fate's design looks and how cool ...  Positive\n",
       "1  I can’t get over how good everything looks. Dr...  Positive\n",
       "2  Really hoping that this can save DC's movie un...  Positive\n",
       "3  U cant deny how good this looks.Now if they ca...  Positive\n",
       "4  From this trailer, I have a feeling that this ...  Positive"
      ]
     },
     "execution_count": 25,
     "metadata": {},
     "output_type": "execute_result"
    }
   ],
   "source": [
    "# Final Data\n",
    "df = data.drop(['Positive','Negative','Neutral','Compound'],axis=1)\n",
    "df.head()"
   ]
  },
  {
   "cell_type": "code",
   "execution_count": 26,
   "id": "13c5383a",
   "metadata": {},
   "outputs": [
    {
     "data": {
      "text/plain": [
       "0      Love how Dr. Fate's design looks and how cool ...\n",
       "1      I can’t get over how good everything looks. Dr...\n",
       "2      Really hoping that this can save DC's movie un...\n",
       "3      U cant deny how good this looks.Now if they ca...\n",
       "4      From this trailer, I have a feeling that this ...\n",
       "                             ...                        \n",
       "275    I want to see this. It may be one of his most ...\n",
       "276         wow thats very amazing. I can't wait to see.\n",
       "277                      Doctor Fate is why i'm watching\n",
       "278    This looks fire. DC looks like they stepping t...\n",
       "279    Shazam : \"I don't want fight you Black Adam.\"B...\n",
       "Name: Comment, Length: 280, dtype: object"
      ]
     },
     "execution_count": 26,
     "metadata": {},
     "output_type": "execute_result"
    }
   ],
   "source": [
    "df.Comment"
   ]
  },
  {
   "cell_type": "markdown",
   "id": "b72de7e3",
   "metadata": {},
   "source": [
    "# Data transformation"
   ]
  },
  {
   "cell_type": "code",
   "execution_count": 27,
   "id": "6eeba19f",
   "metadata": {},
   "outputs": [],
   "source": [
    "#1.Lowercasing\n",
    "df['Comment'] = df['Comment'].str.lower()"
   ]
  },
  {
   "cell_type": "code",
   "execution_count": 28,
   "id": "1c416bf8",
   "metadata": {},
   "outputs": [
    {
     "data": {
      "text/html": [
       "<div>\n",
       "<style scoped>\n",
       "    .dataframe tbody tr th:only-of-type {\n",
       "        vertical-align: middle;\n",
       "    }\n",
       "\n",
       "    .dataframe tbody tr th {\n",
       "        vertical-align: top;\n",
       "    }\n",
       "\n",
       "    .dataframe thead th {\n",
       "        text-align: right;\n",
       "    }\n",
       "</style>\n",
       "<table border=\"1\" class=\"dataframe\">\n",
       "  <thead>\n",
       "    <tr style=\"text-align: right;\">\n",
       "      <th></th>\n",
       "      <th>Comment</th>\n",
       "      <th>Sentiment</th>\n",
       "    </tr>\n",
       "  </thead>\n",
       "  <tbody>\n",
       "    <tr>\n",
       "      <th>0</th>\n",
       "      <td>love how dr. fate's design looks and how cool ...</td>\n",
       "      <td>Positive</td>\n",
       "    </tr>\n",
       "    <tr>\n",
       "      <th>1</th>\n",
       "      <td>i can’t get over how good everything looks. dr...</td>\n",
       "      <td>Positive</td>\n",
       "    </tr>\n",
       "    <tr>\n",
       "      <th>2</th>\n",
       "      <td>really hoping that this can save dc's movie un...</td>\n",
       "      <td>Positive</td>\n",
       "    </tr>\n",
       "    <tr>\n",
       "      <th>3</th>\n",
       "      <td>u cant deny how good this looks.now if they ca...</td>\n",
       "      <td>Positive</td>\n",
       "    </tr>\n",
       "    <tr>\n",
       "      <th>4</th>\n",
       "      <td>from this trailer, i have a feeling that this ...</td>\n",
       "      <td>Positive</td>\n",
       "    </tr>\n",
       "  </tbody>\n",
       "</table>\n",
       "</div>"
      ],
      "text/plain": [
       "                                             Comment Sentiment\n",
       "0  love how dr. fate's design looks and how cool ...  Positive\n",
       "1  i can’t get over how good everything looks. dr...  Positive\n",
       "2  really hoping that this can save dc's movie un...  Positive\n",
       "3  u cant deny how good this looks.now if they ca...  Positive\n",
       "4  from this trailer, i have a feeling that this ...  Positive"
      ]
     },
     "execution_count": 28,
     "metadata": {},
     "output_type": "execute_result"
    }
   ],
   "source": [
    "df.head()"
   ]
  },
  {
   "cell_type": "code",
   "execution_count": 29,
   "id": "20fd153e",
   "metadata": {},
   "outputs": [],
   "source": [
    "#2. Remove Punctuation marks\n",
    "import string\n",
    "def remove_punc(text):\n",
    "    nonp_text = \"\".join([char for char in text if char not in string.punctuation])\n",
    "    return nonp_text\n",
    "\n",
    "df['Comment'] = df['Comment'].apply(lambda x: remove_punc(x))"
   ]
  },
  {
   "cell_type": "code",
   "execution_count": 30,
   "id": "9549e3c0",
   "metadata": {},
   "outputs": [
    {
     "data": {
      "text/html": [
       "<div>\n",
       "<style scoped>\n",
       "    .dataframe tbody tr th:only-of-type {\n",
       "        vertical-align: middle;\n",
       "    }\n",
       "\n",
       "    .dataframe tbody tr th {\n",
       "        vertical-align: top;\n",
       "    }\n",
       "\n",
       "    .dataframe thead th {\n",
       "        text-align: right;\n",
       "    }\n",
       "</style>\n",
       "<table border=\"1\" class=\"dataframe\">\n",
       "  <thead>\n",
       "    <tr style=\"text-align: right;\">\n",
       "      <th></th>\n",
       "      <th>Comment</th>\n",
       "      <th>Sentiment</th>\n",
       "    </tr>\n",
       "  </thead>\n",
       "  <tbody>\n",
       "    <tr>\n",
       "      <th>0</th>\n",
       "      <td>love how dr fates design looks and how cool hi...</td>\n",
       "      <td>Positive</td>\n",
       "    </tr>\n",
       "    <tr>\n",
       "      <th>1</th>\n",
       "      <td>i can’t get over how good everything looks dr ...</td>\n",
       "      <td>Positive</td>\n",
       "    </tr>\n",
       "    <tr>\n",
       "      <th>2</th>\n",
       "      <td>really hoping that this can save dcs movie uni...</td>\n",
       "      <td>Positive</td>\n",
       "    </tr>\n",
       "    <tr>\n",
       "      <th>3</th>\n",
       "      <td>u cant deny how good this looksnow if they can...</td>\n",
       "      <td>Positive</td>\n",
       "    </tr>\n",
       "    <tr>\n",
       "      <th>4</th>\n",
       "      <td>from this trailer i have a feeling that this m...</td>\n",
       "      <td>Positive</td>\n",
       "    </tr>\n",
       "  </tbody>\n",
       "</table>\n",
       "</div>"
      ],
      "text/plain": [
       "                                             Comment Sentiment\n",
       "0  love how dr fates design looks and how cool hi...  Positive\n",
       "1  i can’t get over how good everything looks dr ...  Positive\n",
       "2  really hoping that this can save dcs movie uni...  Positive\n",
       "3  u cant deny how good this looksnow if they can...  Positive\n",
       "4  from this trailer i have a feeling that this m...  Positive"
      ]
     },
     "execution_count": 30,
     "metadata": {},
     "output_type": "execute_result"
    }
   ],
   "source": [
    "df.head()"
   ]
  },
  {
   "cell_type": "code",
   "execution_count": 31,
   "id": "f74bafcd",
   "metadata": {},
   "outputs": [],
   "source": [
    "#3. Tokanization\n",
    "def tokanize(text):\n",
    "    tokens = text.split(\" \")\n",
    "    return tokens"
   ]
  },
  {
   "cell_type": "code",
   "execution_count": 32,
   "id": "b49458da",
   "metadata": {},
   "outputs": [],
   "source": [
    "df['Comment'] = df['Comment'].apply(lambda x: tokanize(x))"
   ]
  },
  {
   "cell_type": "code",
   "execution_count": 33,
   "id": "64813d1d",
   "metadata": {},
   "outputs": [
    {
     "data": {
      "text/html": [
       "<div>\n",
       "<style scoped>\n",
       "    .dataframe tbody tr th:only-of-type {\n",
       "        vertical-align: middle;\n",
       "    }\n",
       "\n",
       "    .dataframe tbody tr th {\n",
       "        vertical-align: top;\n",
       "    }\n",
       "\n",
       "    .dataframe thead th {\n",
       "        text-align: right;\n",
       "    }\n",
       "</style>\n",
       "<table border=\"1\" class=\"dataframe\">\n",
       "  <thead>\n",
       "    <tr style=\"text-align: right;\">\n",
       "      <th></th>\n",
       "      <th>Comment</th>\n",
       "      <th>Sentiment</th>\n",
       "    </tr>\n",
       "  </thead>\n",
       "  <tbody>\n",
       "    <tr>\n",
       "      <th>0</th>\n",
       "      <td>[love, how, dr, fates, design, looks, and, how...</td>\n",
       "      <td>Positive</td>\n",
       "    </tr>\n",
       "    <tr>\n",
       "      <th>1</th>\n",
       "      <td>[i, can’t, get, over, how, good, everything, l...</td>\n",
       "      <td>Positive</td>\n",
       "    </tr>\n",
       "    <tr>\n",
       "      <th>2</th>\n",
       "      <td>[really, hoping, that, this, can, save, dcs, m...</td>\n",
       "      <td>Positive</td>\n",
       "    </tr>\n",
       "    <tr>\n",
       "      <th>3</th>\n",
       "      <td>[u, cant, deny, how, good, this, looksnow, if,...</td>\n",
       "      <td>Positive</td>\n",
       "    </tr>\n",
       "    <tr>\n",
       "      <th>4</th>\n",
       "      <td>[from, this, trailer, i, have, a, feeling, tha...</td>\n",
       "      <td>Positive</td>\n",
       "    </tr>\n",
       "  </tbody>\n",
       "</table>\n",
       "</div>"
      ],
      "text/plain": [
       "                                             Comment Sentiment\n",
       "0  [love, how, dr, fates, design, looks, and, how...  Positive\n",
       "1  [i, can’t, get, over, how, good, everything, l...  Positive\n",
       "2  [really, hoping, that, this, can, save, dcs, m...  Positive\n",
       "3  [u, cant, deny, how, good, this, looksnow, if,...  Positive\n",
       "4  [from, this, trailer, i, have, a, feeling, tha...  Positive"
      ]
     },
     "execution_count": 33,
     "metadata": {},
     "output_type": "execute_result"
    }
   ],
   "source": [
    "df.head()"
   ]
  },
  {
   "cell_type": "code",
   "execution_count": 34,
   "id": "b178d308",
   "metadata": {},
   "outputs": [],
   "source": [
    "# 4.Remove stopwords\n",
    "import nltk\n",
    "stopwords = nltk.corpus.stopwords.words('english')\n",
    "\n",
    "def remove_stopwords(token):\n",
    "    text = [word for word in token if word not in stopwords]\n",
    "    return text\n",
    "df['Comment'] = df['Comment'].apply(lambda x: remove_stopwords(x))"
   ]
  },
  {
   "cell_type": "code",
   "execution_count": 35,
   "id": "eb4c81cf",
   "metadata": {},
   "outputs": [
    {
     "data": {
      "text/html": [
       "<div>\n",
       "<style scoped>\n",
       "    .dataframe tbody tr th:only-of-type {\n",
       "        vertical-align: middle;\n",
       "    }\n",
       "\n",
       "    .dataframe tbody tr th {\n",
       "        vertical-align: top;\n",
       "    }\n",
       "\n",
       "    .dataframe thead th {\n",
       "        text-align: right;\n",
       "    }\n",
       "</style>\n",
       "<table border=\"1\" class=\"dataframe\">\n",
       "  <thead>\n",
       "    <tr style=\"text-align: right;\">\n",
       "      <th></th>\n",
       "      <th>Comment</th>\n",
       "      <th>Sentiment</th>\n",
       "    </tr>\n",
       "  </thead>\n",
       "  <tbody>\n",
       "    <tr>\n",
       "      <th>0</th>\n",
       "      <td>[love, dr, fates, design, looks, cool, scenes,...</td>\n",
       "      <td>Positive</td>\n",
       "    </tr>\n",
       "    <tr>\n",
       "      <th>1</th>\n",
       "      <td>[can’t, get, good, everything, looks, dr, fate...</td>\n",
       "      <td>Positive</td>\n",
       "    </tr>\n",
       "    <tr>\n",
       "      <th>2</th>\n",
       "      <td>[really, hoping, save, dcs, movie, universe, l...</td>\n",
       "      <td>Positive</td>\n",
       "    </tr>\n",
       "    <tr>\n",
       "      <th>3</th>\n",
       "      <td>[u, cant, deny, good, looksnow, follow, , rest...</td>\n",
       "      <td>Positive</td>\n",
       "    </tr>\n",
       "    <tr>\n",
       "      <th>4</th>\n",
       "      <td>[trailer, feeling, movie, going, one, movies, ...</td>\n",
       "      <td>Positive</td>\n",
       "    </tr>\n",
       "  </tbody>\n",
       "</table>\n",
       "</div>"
      ],
      "text/plain": [
       "                                             Comment Sentiment\n",
       "0  [love, dr, fates, design, looks, cool, scenes,...  Positive\n",
       "1  [can’t, get, good, everything, looks, dr, fate...  Positive\n",
       "2  [really, hoping, save, dcs, movie, universe, l...  Positive\n",
       "3  [u, cant, deny, good, looksnow, follow, , rest...  Positive\n",
       "4  [trailer, feeling, movie, going, one, movies, ...  Positive"
      ]
     },
     "execution_count": 35,
     "metadata": {},
     "output_type": "execute_result"
    }
   ],
   "source": [
    "df.head()"
   ]
  },
  {
   "cell_type": "code",
   "execution_count": 36,
   "id": "42965893",
   "metadata": {},
   "outputs": [],
   "source": [
    "# 4.Stemming\n",
    "ps = nltk.PorterStemmer()\n",
    "\n",
    "def stem_word(text_s):\n",
    "    text = [ps.stem(word) for word in text_s]\n",
    "    return text\n",
    "df['Comment'] = df['Comment'].apply(lambda x: stem_word(x))"
   ]
  },
  {
   "cell_type": "code",
   "execution_count": 37,
   "id": "65b9f437",
   "metadata": {},
   "outputs": [
    {
     "data": {
      "text/html": [
       "<div>\n",
       "<style scoped>\n",
       "    .dataframe tbody tr th:only-of-type {\n",
       "        vertical-align: middle;\n",
       "    }\n",
       "\n",
       "    .dataframe tbody tr th {\n",
       "        vertical-align: top;\n",
       "    }\n",
       "\n",
       "    .dataframe thead th {\n",
       "        text-align: right;\n",
       "    }\n",
       "</style>\n",
       "<table border=\"1\" class=\"dataframe\">\n",
       "  <thead>\n",
       "    <tr style=\"text-align: right;\">\n",
       "      <th></th>\n",
       "      <th>Comment</th>\n",
       "      <th>Sentiment</th>\n",
       "    </tr>\n",
       "  </thead>\n",
       "  <tbody>\n",
       "    <tr>\n",
       "      <th>0</th>\n",
       "      <td>[love, dr, fate, design, look, cool, scene, lo...</td>\n",
       "      <td>Positive</td>\n",
       "    </tr>\n",
       "    <tr>\n",
       "      <th>1</th>\n",
       "      <td>[can’t, get, good, everyth, look, dr, fate’, m...</td>\n",
       "      <td>Positive</td>\n",
       "    </tr>\n",
       "    <tr>\n",
       "      <th>2</th>\n",
       "      <td>[realli, hope, save, dc, movi, univers, look, ...</td>\n",
       "      <td>Positive</td>\n",
       "    </tr>\n",
       "    <tr>\n",
       "      <th>3</th>\n",
       "      <td>[u, cant, deni, good, looksnow, follow, , rest...</td>\n",
       "      <td>Positive</td>\n",
       "    </tr>\n",
       "    <tr>\n",
       "      <th>4</th>\n",
       "      <td>[trailer, feel, movi, go, one, movi, would, ne...</td>\n",
       "      <td>Positive</td>\n",
       "    </tr>\n",
       "  </tbody>\n",
       "</table>\n",
       "</div>"
      ],
      "text/plain": [
       "                                             Comment Sentiment\n",
       "0  [love, dr, fate, design, look, cool, scene, lo...  Positive\n",
       "1  [can’t, get, good, everyth, look, dr, fate’, m...  Positive\n",
       "2  [realli, hope, save, dc, movi, univers, look, ...  Positive\n",
       "3  [u, cant, deni, good, looksnow, follow, , rest...  Positive\n",
       "4  [trailer, feel, movi, go, one, movi, would, ne...  Positive"
      ]
     },
     "execution_count": 37,
     "metadata": {},
     "output_type": "execute_result"
    }
   ],
   "source": [
    "df.head()"
   ]
  },
  {
   "cell_type": "code",
   "execution_count": 38,
   "id": "990ad724",
   "metadata": {},
   "outputs": [],
   "source": [
    "# 5.Lammatization\n",
    "lemma = nltk.WordNetLemmatizer()\n",
    "def lem(text_l):\n",
    "    text = [lemma.lemmatize(word) for word in text_l]\n",
    "    return text\n",
    "df['Comment'] = df['Comment'].apply(lambda x: lem(x))"
   ]
  },
  {
   "cell_type": "code",
   "execution_count": 39,
   "id": "964458f4",
   "metadata": {},
   "outputs": [
    {
     "data": {
      "text/html": [
       "<div>\n",
       "<style scoped>\n",
       "    .dataframe tbody tr th:only-of-type {\n",
       "        vertical-align: middle;\n",
       "    }\n",
       "\n",
       "    .dataframe tbody tr th {\n",
       "        vertical-align: top;\n",
       "    }\n",
       "\n",
       "    .dataframe thead th {\n",
       "        text-align: right;\n",
       "    }\n",
       "</style>\n",
       "<table border=\"1\" class=\"dataframe\">\n",
       "  <thead>\n",
       "    <tr style=\"text-align: right;\">\n",
       "      <th></th>\n",
       "      <th>Comment</th>\n",
       "      <th>Sentiment</th>\n",
       "    </tr>\n",
       "  </thead>\n",
       "  <tbody>\n",
       "    <tr>\n",
       "      <th>0</th>\n",
       "      <td>[love, dr, fate, design, look, cool, scene, lo...</td>\n",
       "      <td>Positive</td>\n",
       "    </tr>\n",
       "    <tr>\n",
       "      <th>1</th>\n",
       "      <td>[can’t, get, good, everyth, look, dr, fate’, m...</td>\n",
       "      <td>Positive</td>\n",
       "    </tr>\n",
       "    <tr>\n",
       "      <th>2</th>\n",
       "      <td>[realli, hope, save, dc, movi, univers, look, ...</td>\n",
       "      <td>Positive</td>\n",
       "    </tr>\n",
       "    <tr>\n",
       "      <th>3</th>\n",
       "      <td>[u, cant, deni, good, looksnow, follow, , rest...</td>\n",
       "      <td>Positive</td>\n",
       "    </tr>\n",
       "    <tr>\n",
       "      <th>4</th>\n",
       "      <td>[trailer, feel, movi, go, one, movi, would, ne...</td>\n",
       "      <td>Positive</td>\n",
       "    </tr>\n",
       "  </tbody>\n",
       "</table>\n",
       "</div>"
      ],
      "text/plain": [
       "                                             Comment Sentiment\n",
       "0  [love, dr, fate, design, look, cool, scene, lo...  Positive\n",
       "1  [can’t, get, good, everyth, look, dr, fate’, m...  Positive\n",
       "2  [realli, hope, save, dc, movi, univers, look, ...  Positive\n",
       "3  [u, cant, deni, good, looksnow, follow, , rest...  Positive\n",
       "4  [trailer, feel, movi, go, one, movi, would, ne...  Positive"
      ]
     },
     "execution_count": 39,
     "metadata": {},
     "output_type": "execute_result"
    }
   ],
   "source": [
    "df.head()"
   ]
  },
  {
   "cell_type": "code",
   "execution_count": 40,
   "id": "c72be1a1",
   "metadata": {},
   "outputs": [],
   "source": [
    "df['Comment'] = df['Comment'].fillna('').apply(str)   #for replace nan values or any other special character which is not string"
   ]
  },
  {
   "cell_type": "code",
   "execution_count": 41,
   "id": "3ed9d6eb",
   "metadata": {},
   "outputs": [],
   "source": [
    "# 6. Preprocessing using regular expressions\n",
    "import re\n",
    "def text_processing(text):\n",
    "    \n",
    "    # remove new line characters in text\n",
    "    text = re.sub(r'\\n',' ', text)\n",
    "    \n",
    "     # remove references and hashtags from text\n",
    "    text = re.sub(\"^a-zA-Z0-9$,.\", \"\", text)\n",
    "    \n",
    "    # remove multiple spaces from text\n",
    "    text = re.sub(r'\\s+', ' ', text, flags=re.I)\n",
    "    \n",
    "    # remove special characters from text\n",
    "    text = re.sub(r'\\W', ' ', text)\n",
    "    \n",
    "    return text\n",
    "\n"
   ]
  },
  {
   "cell_type": "code",
   "execution_count": 42,
   "id": "795ae6e9",
   "metadata": {},
   "outputs": [],
   "source": [
    "df['Comment'] = df['Comment'].apply(lambda x: text_processing(x))"
   ]
  },
  {
   "cell_type": "code",
   "execution_count": 43,
   "id": "1a209676",
   "metadata": {},
   "outputs": [
    {
     "data": {
      "text/html": [
       "<div>\n",
       "<style scoped>\n",
       "    .dataframe tbody tr th:only-of-type {\n",
       "        vertical-align: middle;\n",
       "    }\n",
       "\n",
       "    .dataframe tbody tr th {\n",
       "        vertical-align: top;\n",
       "    }\n",
       "\n",
       "    .dataframe thead th {\n",
       "        text-align: right;\n",
       "    }\n",
       "</style>\n",
       "<table border=\"1\" class=\"dataframe\">\n",
       "  <thead>\n",
       "    <tr style=\"text-align: right;\">\n",
       "      <th></th>\n",
       "      <th>Comment</th>\n",
       "      <th>Sentiment</th>\n",
       "    </tr>\n",
       "  </thead>\n",
       "  <tbody>\n",
       "    <tr>\n",
       "      <th>0</th>\n",
       "      <td>love    dr    fate    design    look    cool...</td>\n",
       "      <td>Positive</td>\n",
       "    </tr>\n",
       "    <tr>\n",
       "      <th>1</th>\n",
       "      <td>can t    get    good    everyth    look    d...</td>\n",
       "      <td>Positive</td>\n",
       "    </tr>\n",
       "    <tr>\n",
       "      <th>2</th>\n",
       "      <td>realli    hope    save    dc    movi    univ...</td>\n",
       "      <td>Positive</td>\n",
       "    </tr>\n",
       "    <tr>\n",
       "      <th>3</th>\n",
       "      <td>u    cant    deni    good    looksnow    fol...</td>\n",
       "      <td>Positive</td>\n",
       "    </tr>\n",
       "    <tr>\n",
       "      <th>4</th>\n",
       "      <td>trailer    feel    movi    go    one    movi...</td>\n",
       "      <td>Positive</td>\n",
       "    </tr>\n",
       "  </tbody>\n",
       "</table>\n",
       "</div>"
      ],
      "text/plain": [
       "                                             Comment Sentiment\n",
       "0    love    dr    fate    design    look    cool...  Positive\n",
       "1    can t    get    good    everyth    look    d...  Positive\n",
       "2    realli    hope    save    dc    movi    univ...  Positive\n",
       "3    u    cant    deni    good    looksnow    fol...  Positive\n",
       "4    trailer    feel    movi    go    one    movi...  Positive"
      ]
     },
     "execution_count": 43,
     "metadata": {},
     "output_type": "execute_result"
    }
   ],
   "source": [
    "df.head()"
   ]
  },
  {
   "cell_type": "code",
   "execution_count": 44,
   "id": "2fd6c16d",
   "metadata": {},
   "outputs": [],
   "source": [
    "# Apply label encoding to encode sentiment column\n",
    "from sklearn.preprocessing import LabelEncoder\n",
    "le = LabelEncoder()"
   ]
  },
  {
   "cell_type": "code",
   "execution_count": 45,
   "id": "bec408ca",
   "metadata": {},
   "outputs": [],
   "source": [
    "final_df = df.copy()"
   ]
  },
  {
   "cell_type": "code",
   "execution_count": 46,
   "id": "a4ee9fcc",
   "metadata": {},
   "outputs": [
    {
     "data": {
      "text/html": [
       "<div>\n",
       "<style scoped>\n",
       "    .dataframe tbody tr th:only-of-type {\n",
       "        vertical-align: middle;\n",
       "    }\n",
       "\n",
       "    .dataframe tbody tr th {\n",
       "        vertical-align: top;\n",
       "    }\n",
       "\n",
       "    .dataframe thead th {\n",
       "        text-align: right;\n",
       "    }\n",
       "</style>\n",
       "<table border=\"1\" class=\"dataframe\">\n",
       "  <thead>\n",
       "    <tr style=\"text-align: right;\">\n",
       "      <th></th>\n",
       "      <th>Comment</th>\n",
       "      <th>Sentiment</th>\n",
       "    </tr>\n",
       "  </thead>\n",
       "  <tbody>\n",
       "    <tr>\n",
       "      <th>223</th>\n",
       "      <td>im    still    tri    wrap    head    around...</td>\n",
       "      <td>Negative</td>\n",
       "    </tr>\n",
       "    <tr>\n",
       "      <th>171</th>\n",
       "      <td>look    refresh    cant    wait    experi   ...</td>\n",
       "      <td>Positive</td>\n",
       "    </tr>\n",
       "    <tr>\n",
       "      <th>122</th>\n",
       "      <td>final    good    dc    movi</td>\n",
       "      <td>Positive</td>\n",
       "    </tr>\n",
       "    <tr>\n",
       "      <th>150</th>\n",
       "      <td>doubt    one    greatest    movi    ever</td>\n",
       "      <td>Positive</td>\n",
       "    </tr>\n",
       "    <tr>\n",
       "      <th>253</th>\n",
       "      <td>cant    wait</td>\n",
       "      <td>Neutral</td>\n",
       "    </tr>\n",
       "    <tr>\n",
       "      <th>136</th>\n",
       "      <td>faith    movi    go    good    want    battl...</td>\n",
       "      <td>Negative</td>\n",
       "    </tr>\n",
       "    <tr>\n",
       "      <th>68</th>\n",
       "      <td>atom    smasher    land    give    goosebump</td>\n",
       "      <td>Neutral</td>\n",
       "    </tr>\n",
       "    <tr>\n",
       "      <th>148</th>\n",
       "      <td>1    realli    hope    black    adam    figh...</td>\n",
       "      <td>Negative</td>\n",
       "    </tr>\n",
       "  </tbody>\n",
       "</table>\n",
       "</div>"
      ],
      "text/plain": [
       "                                               Comment Sentiment\n",
       "223    im    still    tri    wrap    head    around...  Negative\n",
       "171    look    refresh    cant    wait    experi   ...  Positive\n",
       "122                      final    good    dc    movi    Positive\n",
       "150         doubt    one    greatest    movi    ever    Positive\n",
       "253                                     cant    wait     Neutral\n",
       "136    faith    movi    go    good    want    battl...  Negative\n",
       "68      atom    smasher    land    give    goosebump     Neutral\n",
       "148    1    realli    hope    black    adam    figh...  Negative"
      ]
     },
     "execution_count": 46,
     "metadata": {},
     "output_type": "execute_result"
    }
   ],
   "source": [
    "final_df.sample(8)"
   ]
  },
  {
   "cell_type": "code",
   "execution_count": 47,
   "id": "43c59da0",
   "metadata": {},
   "outputs": [],
   "source": [
    "final_df['Sentiment'] = le.fit_transform(final_df['Sentiment'])"
   ]
  },
  {
   "cell_type": "code",
   "execution_count": 48,
   "id": "5885fc4f",
   "metadata": {},
   "outputs": [
    {
     "data": {
      "text/html": [
       "<div>\n",
       "<style scoped>\n",
       "    .dataframe tbody tr th:only-of-type {\n",
       "        vertical-align: middle;\n",
       "    }\n",
       "\n",
       "    .dataframe tbody tr th {\n",
       "        vertical-align: top;\n",
       "    }\n",
       "\n",
       "    .dataframe thead th {\n",
       "        text-align: right;\n",
       "    }\n",
       "</style>\n",
       "<table border=\"1\" class=\"dataframe\">\n",
       "  <thead>\n",
       "    <tr style=\"text-align: right;\">\n",
       "      <th></th>\n",
       "      <th>Comment</th>\n",
       "      <th>Sentiment</th>\n",
       "    </tr>\n",
       "  </thead>\n",
       "  <tbody>\n",
       "    <tr>\n",
       "      <th>46</th>\n",
       "      <td>cant    wait        look    incred</td>\n",
       "      <td>1</td>\n",
       "    </tr>\n",
       "    <tr>\n",
       "      <th>138</th>\n",
       "      <td>first    dc    movi    truli    excit    wat...</td>\n",
       "      <td>2</td>\n",
       "    </tr>\n",
       "    <tr>\n",
       "      <th>17</th>\n",
       "      <td>look    like    it     go    black    adam  ...</td>\n",
       "      <td>0</td>\n",
       "    </tr>\n",
       "    <tr>\n",
       "      <th>186</th>\n",
       "      <td>everyon    still    root    rock    although...</td>\n",
       "      <td>1</td>\n",
       "    </tr>\n",
       "    <tr>\n",
       "      <th>43</th>\n",
       "      <td>absolut    insan    back    2020    total   ...</td>\n",
       "      <td>2</td>\n",
       "    </tr>\n",
       "    <tr>\n",
       "      <th>57</th>\n",
       "      <td>love    justic    societi        gonna    fun</td>\n",
       "      <td>2</td>\n",
       "    </tr>\n",
       "    <tr>\n",
       "      <th>236</th>\n",
       "      <td>way    better    first    trailer    im    m...</td>\n",
       "      <td>2</td>\n",
       "    </tr>\n",
       "    <tr>\n",
       "      <th>12</th>\n",
       "      <td>look    amaz    marvel    instal    year    ...</td>\n",
       "      <td>2</td>\n",
       "    </tr>\n",
       "  </tbody>\n",
       "</table>\n",
       "</div>"
      ],
      "text/plain": [
       "                                               Comment  Sentiment\n",
       "46                cant    wait        look    incred            1\n",
       "138    first    dc    movi    truli    excit    wat...          2\n",
       "17     look    like    it     go    black    adam  ...          0\n",
       "186    everyon    still    root    rock    although...          1\n",
       "43     absolut    insan    back    2020    total   ...          2\n",
       "57     love    justic    societi        gonna    fun            2\n",
       "236    way    better    first    trailer    im    m...          2\n",
       "12     look    amaz    marvel    instal    year    ...          2"
      ]
     },
     "execution_count": 48,
     "metadata": {},
     "output_type": "execute_result"
    }
   ],
   "source": [
    "final_df.sample(8)"
   ]
  },
  {
   "cell_type": "code",
   "execution_count": 49,
   "id": "fd21cddb",
   "metadata": {},
   "outputs": [
    {
     "data": {
      "text/plain": [
       "array(['Negative', 'Neutral', 'Positive'], dtype=object)"
      ]
     },
     "execution_count": 49,
     "metadata": {},
     "output_type": "execute_result"
    }
   ],
   "source": [
    "le.classes_"
   ]
  },
  {
   "cell_type": "code",
   "execution_count": 50,
   "id": "6da7836b",
   "metadata": {},
   "outputs": [
    {
     "data": {
      "text/plain": [
       "2    205\n",
       "1     39\n",
       "0     36\n",
       "Name: Sentiment, dtype: int64"
      ]
     },
     "execution_count": 50,
     "metadata": {},
     "output_type": "execute_result"
    }
   ],
   "source": [
    "# Check if the data is balanced or not.\n",
    "final_df['Sentiment'].value_counts()"
   ]
  },
  {
   "cell_type": "code",
   "execution_count": 51,
   "id": "d5627bb1",
   "metadata": {},
   "outputs": [
    {
     "name": "stderr",
     "output_type": "stream",
     "text": [
      "C:\\Users\\intel\\anaconda3\\lib\\site-packages\\seaborn\\_decorators.py:36: FutureWarning: Pass the following variable as a keyword arg: x. From version 0.12, the only valid positional argument will be `data`, and passing other arguments without an explicit keyword will result in an error or misinterpretation.\n",
      "  warnings.warn(\n"
     ]
    },
    {
     "data": {
      "text/plain": [
       "<AxesSubplot:xlabel='Sentiment', ylabel='count'>"
      ]
     },
     "execution_count": 51,
     "metadata": {},
     "output_type": "execute_result"
    },
    {
     "data": {
      "image/png": "[encoded data removed]",
      "text/plain": [
       "<Figure size 432x288 with 1 Axes>"
      ]
     },
     "metadata": {
      "needs_background": "light"
     },
     "output_type": "display_data"
    }
   ],
   "source": [
    "sns.countplot(final_df['Sentiment'])"
   ]
  },
  {
   "cell_type": "markdown",
   "id": "c8bc8e37",
   "metadata": {},
   "source": [
    "**#The data is imbalanced so we need to balance the data**"
   ]
  },
  {
   "cell_type": "code",
   "execution_count": 52,
   "id": "f85f8608",
   "metadata": {},
   "outputs": [
    {
     "data": {
      "text/plain": [
       "array(['Negative', 'Neutral', 'Positive'], dtype=object)"
      ]
     },
     "execution_count": 52,
     "metadata": {},
     "output_type": "execute_result"
    }
   ],
   "source": [
    "le.classes_"
   ]
  },
  {
   "cell_type": "code",
   "execution_count": 53,
   "id": "01da2320",
   "metadata": {},
   "outputs": [],
   "source": [
    "#Here Negative = 0, Neutral = 1, Positive = 2\n",
    "# We balance the data or equal the values of negative and neutral equal to positive values"
   ]
  },
  {
   "cell_type": "code",
   "execution_count": 54,
   "id": "84285a0f",
   "metadata": {},
   "outputs": [
    {
     "data": {
      "text/html": [
       "<div>\n",
       "<style scoped>\n",
       "    .dataframe tbody tr th:only-of-type {\n",
       "        vertical-align: middle;\n",
       "    }\n",
       "\n",
       "    .dataframe tbody tr th {\n",
       "        vertical-align: top;\n",
       "    }\n",
       "\n",
       "    .dataframe thead th {\n",
       "        text-align: right;\n",
       "    }\n",
       "</style>\n",
       "<table border=\"1\" class=\"dataframe\">\n",
       "  <thead>\n",
       "    <tr style=\"text-align: right;\">\n",
       "      <th></th>\n",
       "      <th>Comment</th>\n",
       "      <th>Sentiment</th>\n",
       "    </tr>\n",
       "  </thead>\n",
       "  <tbody>\n",
       "    <tr>\n",
       "      <th>6</th>\n",
       "      <td>never    hype    comic    book    movi    ev...</td>\n",
       "      <td>0</td>\n",
       "    </tr>\n",
       "    <tr>\n",
       "      <th>10</th>\n",
       "      <td>anguish    rage    two    danger    emot    ...</td>\n",
       "      <td>0</td>\n",
       "    </tr>\n",
       "    <tr>\n",
       "      <th>17</th>\n",
       "      <td>look    like    it     go    black    adam  ...</td>\n",
       "      <td>0</td>\n",
       "    </tr>\n",
       "    <tr>\n",
       "      <th>20</th>\n",
       "      <td>cant    wait    see    villain    redempt   ...</td>\n",
       "      <td>0</td>\n",
       "    </tr>\n",
       "    <tr>\n",
       "      <th>22</th>\n",
       "      <td>final    someth    pure    badass    joke   ...</td>\n",
       "      <td>0</td>\n",
       "    </tr>\n",
       "  </tbody>\n",
       "</table>\n",
       "</div>"
      ],
      "text/plain": [
       "                                              Comment  Sentiment\n",
       "6     never    hype    comic    book    movi    ev...          0\n",
       "10    anguish    rage    two    danger    emot    ...          0\n",
       "17    look    like    it     go    black    adam  ...          0\n",
       "20    cant    wait    see    villain    redempt   ...          0\n",
       "22    final    someth    pure    badass    joke   ...          0"
      ]
     },
     "execution_count": 54,
     "metadata": {},
     "output_type": "execute_result"
    }
   ],
   "source": [
    "final_df[(final_df['Sentiment']==0)].head()"
   ]
  },
  {
   "cell_type": "code",
   "execution_count": 55,
   "id": "38ed241b",
   "metadata": {},
   "outputs": [],
   "source": [
    "## Using above technique\n",
    "#df_negative = final_df[(final_df['Sentiment']==0)]\n",
    "#df_neutral = final_df[(final_df['Sentiment']==1)]\n",
    "#df_positive = final_df[(final_df['Sentiment']==2)]"
   ]
  },
  {
   "cell_type": "code",
   "execution_count": 56,
   "id": "ee58a96c",
   "metadata": {},
   "outputs": [],
   "source": [
    "#Now upsample the minority classes using resample function\n",
    "#from sklearn.utils import resample\n",
    "#df_negative_upsampled = resample(df_negative,replace=True,n_samples=205,random_state=42)\n",
    "#\n",
    "#df_neutral_upsampled = resample(df_neutral,replace=True,n_samples=205,random_state=42)\n",
    "#\n",
    "## Concatenate the upsampled dataframes with the Positive df dataframe\n",
    "#test_data = pd.concat([df_negative_upsampled,df_neutral_upsampled,df_positive])\n"
   ]
  },
  {
   "cell_type": "code",
   "execution_count": 57,
   "id": "f2f0269a",
   "metadata": {},
   "outputs": [],
   "source": [
    "#from sklearn.utils import resample\n",
    "#help(resample())"
   ]
  },
  {
   "cell_type": "code",
   "execution_count": 58,
   "id": "fd6e0ab4",
   "metadata": {},
   "outputs": [
    {
     "data": {
      "text/html": [
       "<div>\n",
       "<style scoped>\n",
       "    .dataframe tbody tr th:only-of-type {\n",
       "        vertical-align: middle;\n",
       "    }\n",
       "\n",
       "    .dataframe tbody tr th {\n",
       "        vertical-align: top;\n",
       "    }\n",
       "\n",
       "    .dataframe thead th {\n",
       "        text-align: right;\n",
       "    }\n",
       "</style>\n",
       "<table border=\"1\" class=\"dataframe\">\n",
       "  <thead>\n",
       "    <tr style=\"text-align: right;\">\n",
       "      <th></th>\n",
       "      <th>Comment</th>\n",
       "      <th>Sentiment</th>\n",
       "    </tr>\n",
       "  </thead>\n",
       "  <tbody>\n",
       "    <tr>\n",
       "      <th>0</th>\n",
       "      <td>love    dr    fate    design    look    cool...</td>\n",
       "      <td>2</td>\n",
       "    </tr>\n",
       "    <tr>\n",
       "      <th>1</th>\n",
       "      <td>can t    get    good    everyth    look    d...</td>\n",
       "      <td>2</td>\n",
       "    </tr>\n",
       "    <tr>\n",
       "      <th>2</th>\n",
       "      <td>realli    hope    save    dc    movi    univ...</td>\n",
       "      <td>2</td>\n",
       "    </tr>\n",
       "    <tr>\n",
       "      <th>3</th>\n",
       "      <td>u    cant    deni    good    looksnow    fol...</td>\n",
       "      <td>2</td>\n",
       "    </tr>\n",
       "    <tr>\n",
       "      <th>4</th>\n",
       "      <td>trailer    feel    movi    go    one    movi...</td>\n",
       "      <td>2</td>\n",
       "    </tr>\n",
       "  </tbody>\n",
       "</table>\n",
       "</div>"
      ],
      "text/plain": [
       "                                             Comment  Sentiment\n",
       "0    love    dr    fate    design    look    cool...          2\n",
       "1    can t    get    good    everyth    look    d...          2\n",
       "2    realli    hope    save    dc    movi    univ...          2\n",
       "3    u    cant    deni    good    looksnow    fol...          2\n",
       "4    trailer    feel    movi    go    one    movi...          2"
      ]
     },
     "execution_count": 58,
     "metadata": {},
     "output_type": "execute_result"
    }
   ],
   "source": [
    "final_df.head()"
   ]
  },
  {
   "cell_type": "code",
   "execution_count": 59,
   "id": "07a3b326",
   "metadata": {},
   "outputs": [
    {
     "data": {
      "text/plain": [
       "(280, 2)"
      ]
     },
     "execution_count": 59,
     "metadata": {},
     "output_type": "execute_result"
    }
   ],
   "source": [
    "final_df.shape"
   ]
  },
  {
   "cell_type": "code",
   "execution_count": 68,
   "id": "02e7a3a0",
   "metadata": {},
   "outputs": [],
   "source": [
    "#Now first convert the text column into numeric using tfidf\n",
    "from sklearn.feature_extraction.text import TfidfVectorizer\n",
    "tfidf = TfidfVectorizer(max_features=1500)\n",
    "x = tfidf.fit_transform(final_df['Comment'])"
   ]
  },
  {
   "cell_type": "code",
   "execution_count": 69,
   "id": "415c9a7d",
   "metadata": {},
   "outputs": [],
   "source": [
    "#Assign sentiment column to y\n",
    "y = final_df['Sentiment']"
   ]
  },
  {
   "cell_type": "code",
   "execution_count": 70,
   "id": "ab01a048",
   "metadata": {},
   "outputs": [],
   "source": [
    "#Now apply SMOTE for upsampling our dataset\n",
    "from imblearn.over_sampling import SMOTE\n",
    "su = SMOTE(random_state=42)\n",
    "x_su, y_su = su.fit_resample(x, y)"
   ]
  },
  {
   "cell_type": "code",
   "execution_count": 71,
   "id": "7db22c2e",
   "metadata": {},
   "outputs": [
    {
     "data": {
      "text/plain": [
       "2    205\n",
       "0    205\n",
       "1    205\n",
       "Name: Sentiment, dtype: int64"
      ]
     },
     "execution_count": 71,
     "metadata": {},
     "output_type": "execute_result"
    }
   ],
   "source": [
    "y_su.value_counts()"
   ]
  },
  {
   "cell_type": "code",
   "execution_count": 72,
   "id": "0900f4e3",
   "metadata": {},
   "outputs": [
    {
     "data": {
      "text/plain": [
       "(615, 941)"
      ]
     },
     "execution_count": 72,
     "metadata": {},
     "output_type": "execute_result"
    }
   ],
   "source": [
    "x_su.shape"
   ]
  },
  {
   "cell_type": "code",
   "execution_count": 73,
   "id": "3a089010",
   "metadata": {},
   "outputs": [
    {
     "data": {
      "text/plain": [
       "(615,)"
      ]
     },
     "execution_count": 73,
     "metadata": {},
     "output_type": "execute_result"
    }
   ],
   "source": [
    "y_su.shape"
   ]
  },
  {
   "cell_type": "code",
   "execution_count": 74,
   "id": "f99a02db",
   "metadata": {},
   "outputs": [
    {
     "data": {
      "text/plain": [
       "<AxesSubplot:ylabel='Type'>"
      ]
     },
     "execution_count": 74,
     "metadata": {},
     "output_type": "execute_result"
    },
    {
     "data": {
      "image/png": "[encoded data removed]",
      "text/plain": [
       "<Figure size 432x288 with 1 Axes>"
      ]
     },
     "metadata": {},
     "output_type": "display_data"
    }
   ],
   "source": [
    "y_su.groupby(y_su).size().plot(kind='pie',\n",
    "                                       y = y_su,\n",
    "                                       label = \"Type\",\n",
    "                                       autopct='%1.1f%%')"
   ]
  },
  {
   "cell_type": "code",
   "execution_count": 75,
   "id": "2fa6178d",
   "metadata": {},
   "outputs": [
    {
     "data": {
      "text/plain": [
       "0    2\n",
       "1    2\n",
       "2    2\n",
       "3    2\n",
       "4    2\n",
       "Name: Sentiment, dtype: int32"
      ]
     },
     "execution_count": 75,
     "metadata": {},
     "output_type": "execute_result"
    }
   ],
   "source": [
    "y_su.head()"
   ]
  },
  {
   "cell_type": "code",
   "execution_count": 82,
   "id": "23617e5a",
   "metadata": {},
   "outputs": [],
   "source": [
    "X = x_su.toarray()"
   ]
  },
  {
   "cell_type": "markdown",
   "id": "ea118c5f",
   "metadata": {},
   "source": [
    "* **Model Building**"
   ]
  },
  {
   "cell_type": "code",
   "execution_count": 83,
   "id": "894d9347",
   "metadata": {},
   "outputs": [],
   "source": [
    "from sklearn .model_selection import train_test_split\n",
    "x_train,x_test,y_train,y_test = train_test_split(X, y_su,test_size=0.25, random_state=42)"
   ]
  },
  {
   "cell_type": "code",
   "execution_count": 84,
   "id": "2701e19f",
   "metadata": {},
   "outputs": [
    {
     "data": {
      "text/html": [
       "<style>#sk-container-id-1 {color: black;background-color: white;}#sk-container-id-1 pre{padding: 0;}#sk-container-id-1 div.sk-toggleable {background-color: white;}#sk-container-id-1 label.sk-toggleable__label {cursor: pointer;display: block;width: 100%;margin-bottom: 0;padding: 0.3em;box-sizing: border-box;text-align: center;}#sk-container-id-1 label.sk-toggleable__label-arrow:before {content: \"▸\";float: left;margin-right: 0.25em;color: #696969;}#sk-container-id-1 label.sk-toggleable__label-arrow:hover:before {color: black;}#sk-container-id-1 div.sk-estimator:hover label.sk-toggleable__label-arrow:before {color: black;}#sk-container-id-1 div.sk-toggleable__content {max-height: 0;max-width: 0;overflow: hidden;text-align: left;background-color: #f0f8ff;}#sk-container-id-1 div.sk-toggleable__content pre {margin: 0.2em;color: black;border-radius: 0.25em;background-color: #f0f8ff;}#sk-container-id-1 input.sk-toggleable__control:checked~div.sk-toggleable__content {max-height: 200px;max-width: 100%;overflow: auto;}#sk-container-id-1 input.sk-toggleable__control:checked~label.sk-toggleable__label-arrow:before {content: \"▾\";}#sk-container-id-1 div.sk-estimator input.sk-toggleable__control:checked~label.sk-toggleable__label {background-color: #d4ebff;}#sk-container-id-1 div.sk-label input.sk-toggleable__control:checked~label.sk-toggleable__label {background-color: #d4ebff;}#sk-container-id-1 input.sk-hidden--visually {border: 0;clip: rect(1px 1px 1px 1px);clip: rect(1px, 1px, 1px, 1px);height: 1px;margin: -1px;overflow: hidden;padding: 0;position: absolute;width: 1px;}#sk-container-id-1 div.sk-estimator {font-family: monospace;background-color: #f0f8ff;border: 1px dotted black;border-radius: 0.25em;box-sizing: border-box;margin-bottom: 0.5em;}#sk-container-id-1 div.sk-estimator:hover {background-color: #d4ebff;}#sk-container-id-1 div.sk-parallel-item::after {content: \"\";width: 100%;border-bottom: 1px solid gray;flex-grow: 1;}#sk-container-id-1 div.sk-label:hover label.sk-toggleable__label {background-color: #d4ebff;}#sk-container-id-1 div.sk-serial::before {content: \"\";position: absolute;border-left: 1px solid gray;box-sizing: border-box;top: 0;bottom: 0;left: 50%;z-index: 0;}#sk-container-id-1 div.sk-serial {display: flex;flex-direction: column;align-items: center;background-color: white;padding-right: 0.2em;padding-left: 0.2em;position: relative;}#sk-container-id-1 div.sk-item {position: relative;z-index: 1;}#sk-container-id-1 div.sk-parallel {display: flex;align-items: stretch;justify-content: center;background-color: white;position: relative;}#sk-container-id-1 div.sk-item::before, #sk-container-id-1 div.sk-parallel-item::before {content: \"\";position: absolute;border-left: 1px solid gray;box-sizing: border-box;top: 0;bottom: 0;left: 50%;z-index: -1;}#sk-container-id-1 div.sk-parallel-item {display: flex;flex-direction: column;z-index: 1;position: relative;background-color: white;}#sk-container-id-1 div.sk-parallel-item:first-child::after {align-self: flex-end;width: 50%;}#sk-container-id-1 div.sk-parallel-item:last-child::after {align-self: flex-start;width: 50%;}#sk-container-id-1 div.sk-parallel-item:only-child::after {width: 0;}#sk-container-id-1 div.sk-dashed-wrapped {border: 1px dashed gray;margin: 0 0.4em 0.5em 0.4em;box-sizing: border-box;padding-bottom: 0.4em;background-color: white;}#sk-container-id-1 div.sk-label label {font-family: monospace;font-weight: bold;display: inline-block;line-height: 1.2em;}#sk-container-id-1 div.sk-label-container {text-align: center;}#sk-container-id-1 div.sk-container {/* jupyter's `normalize.less` sets `[hidden] { display: none; }` but bootstrap.min.css set `[hidden] { display: none !important; }` so we also need the `!important` here to be able to override the default hidden behavior on the sphinx rendered scikit-learn.org. See: https://github.com/scikit-learn/scikit-learn/issues/21755 */display: inline-block !important;position: relative;}#sk-container-id-1 div.sk-text-repr-fallback {display: none;}</style><div id=\"sk-container-id-1\" class=\"sk-top-container\"><div class=\"sk-text-repr-fallback\"><pre>GaussianNB()</pre><b>In a Jupyter environment, please rerun this cell to show the HTML representation or trust the notebook. <br />On GitHub, the HTML representation is unable to render, please try loading this page with nbviewer.org.</b></div><div class=\"sk-container\" hidden><div class=\"sk-item\"><div class=\"sk-estimator sk-toggleable\"><input class=\"sk-toggleable__control sk-hidden--visually\" id=\"sk-estimator-id-1\" type=\"checkbox\" checked><label for=\"sk-estimator-id-1\" class=\"sk-toggleable__label sk-toggleable__label-arrow\">GaussianNB</label><div class=\"sk-toggleable__content\"><pre>GaussianNB()</pre></div></div></div></div></div>"
      ],
      "text/plain": [
       "GaussianNB()"
      ]
     },
     "execution_count": 84,
     "metadata": {},
     "output_type": "execute_result"
    }
   ],
   "source": [
    "from sklearn.naive_bayes import GaussianNB\n",
    "gb = GaussianNB()\n",
    "gb.fit(X, y_su)"
   ]
  },
  {
   "cell_type": "code",
   "execution_count": 85,
   "id": "dbd60246",
   "metadata": {},
   "outputs": [
    {
     "data": {
      "text/plain": [
       "array([2, 0, 0, 1, 2, 1, 2, 2, 2, 1, 0, 2, 2, 0, 2, 0, 1, 2, 1, 1, 0, 2,\n",
       "       1, 0, 1, 0, 1, 0, 2, 1, 0, 2, 0, 0, 0, 2, 1, 1, 2, 2, 1, 0, 0, 0,\n",
       "       2, 1, 2, 1, 1, 1, 0, 2, 0, 1, 2, 2, 0, 1, 1, 1, 1, 2, 0, 1, 0, 1,\n",
       "       2, 2, 2, 0, 1, 0, 0, 2, 2, 2, 2, 2, 0, 2, 0, 2, 1, 1, 1, 1, 2, 0,\n",
       "       0, 1, 2, 0, 1, 2, 1, 2, 1, 0, 2, 1, 0, 1, 1, 1, 0, 1, 2, 0, 2, 2,\n",
       "       1, 2, 0, 1, 2, 1, 1, 1, 0, 0, 2, 2, 0, 0, 0, 2, 1, 0, 0, 2, 2, 0,\n",
       "       0, 1, 2, 2, 1, 2, 2, 2, 1, 0, 0, 1, 1, 2, 0, 2, 0, 0, 1, 2, 1, 2])"
      ]
     },
     "execution_count": 85,
     "metadata": {},
     "output_type": "execute_result"
    }
   ],
   "source": [
    "y_pred = gb.predict(x_test)\n",
    "y_pred"
   ]
  },
  {
   "cell_type": "code",
   "execution_count": 86,
   "id": "970ca515",
   "metadata": {},
   "outputs": [],
   "source": [
    "from sklearn.metrics import accuracy_score,confusion_matrix,classification_report"
   ]
  },
  {
   "cell_type": "code",
   "execution_count": 92,
   "id": "c9124723",
   "metadata": {},
   "outputs": [
    {
     "name": "stdout",
     "output_type": "stream",
     "text": [
      "Tranning score: 0.974025974025974\n"
     ]
    }
   ],
   "source": [
    "print('Tranning score:',accuracy_score(y_test,y_pred))"
   ]
  },
  {
   "cell_type": "code",
   "execution_count": 94,
   "id": "7f457fcf",
   "metadata": {},
   "outputs": [
    {
     "name": "stdout",
     "output_type": "stream",
     "text": [
      "Testing score: 0.9739696312364425\n"
     ]
    }
   ],
   "source": [
    "print('Testing score:',accuracy_score(y_train, gb.predict(x_train)))"
   ]
  },
  {
   "cell_type": "code",
   "execution_count": 99,
   "id": "9c280b9e",
   "metadata": {},
   "outputs": [
    {
     "data": {
      "text/plain": [
       "array([[45,  0,  0],\n",
       "       [ 0, 50,  0],\n",
       "       [ 3,  1, 55]], dtype=int64)"
      ]
     },
     "execution_count": 99,
     "metadata": {},
     "output_type": "execute_result"
    }
   ],
   "source": [
    "confusion_matrix(y_test,y_pred)"
   ]
  },
  {
   "cell_type": "code",
   "execution_count": 98,
   "id": "cf51029e",
   "metadata": {},
   "outputs": [
    {
     "name": "stdout",
     "output_type": "stream",
     "text": [
      "              precision    recall  f1-score   support\n",
      "\n",
      "           0       0.94      1.00      0.97        45\n",
      "           1       0.98      1.00      0.99        50\n",
      "           2       1.00      0.93      0.96        59\n",
      "\n",
      "    accuracy                           0.97       154\n",
      "   macro avg       0.97      0.98      0.97       154\n",
      "weighted avg       0.98      0.97      0.97       154\n",
      "\n"
     ]
    }
   ],
   "source": [
    "print(classification_report(y_test,y_pred))"
   ]
  },
  {
   "cell_type": "code",
   "execution_count": 106,
   "id": "c9dcaed0",
   "metadata": {},
   "outputs": [
    {
     "data": {
      "text/plain": [
       "array([2])"
      ]
     },
     "execution_count": 106,
     "metadata": {},
     "output_type": "execute_result"
    }
   ],
   "source": [
    "gb.predict(x_train[[25]])"
   ]
  },
  {
   "cell_type": "code",
   "execution_count": 107,
   "id": "091f064f",
   "metadata": {},
   "outputs": [
    {
     "data": {
      "text/plain": [
       "array([0.        , 0.        , 0.        , 0.        , 0.        ,\n",
       "       0.        , 0.        , 0.        , 0.        , 0.        ,\n",
       "       0.        , 0.        , 0.        , 0.        , 0.        ,\n",
       "       0.        , 0.        , 0.        , 0.        , 0.        ,\n",
       "       0.        , 0.        , 0.        , 0.        , 0.        ,\n",
       "       0.        , 0.        , 0.        , 0.        , 0.        ,\n",
       "       0.        , 0.        , 0.        , 0.        , 0.        ,\n",
       "       0.        , 0.        , 0.        , 0.        , 0.        ,\n",
       "       0.        , 0.        , 0.        , 0.        , 0.        ,\n",
       "       0.        , 0.        , 0.        , 0.        , 0.        ,\n",
       "       0.        , 0.        , 0.        , 0.        , 0.        ,\n",
       "       0.34761919, 0.        , 0.        , 0.        , 0.        ,\n",
       "       0.        , 0.        , 0.        , 0.        , 0.        ,\n",
       "       0.        , 0.        , 0.        , 0.        , 0.        ,\n",
       "       0.        , 0.        , 0.        , 0.        , 0.        ,\n",
       "       0.        , 0.        , 0.        , 0.        , 0.        ,\n",
       "       0.        , 0.        , 0.        , 0.        , 0.        ,\n",
       "       0.        , 0.        , 0.        , 0.        , 0.        ,\n",
       "       0.        , 0.        , 0.        , 0.        , 0.        ,\n",
       "       0.        , 0.        , 0.        , 0.        , 0.        ,\n",
       "       0.        , 0.        , 0.        , 0.        , 0.        ,\n",
       "       0.        , 0.        , 0.        , 0.        , 0.        ,\n",
       "       0.        , 0.        , 0.        , 0.        , 0.        ,\n",
       "       0.        , 0.        , 0.        , 0.        , 0.        ,\n",
       "       0.        , 0.        , 0.        , 0.        , 0.        ,\n",
       "       0.        , 0.        , 0.        , 0.        , 0.        ,\n",
       "       0.19331222, 0.        , 0.        , 0.        , 0.23384087,\n",
       "       0.        , 0.        , 0.        , 0.        , 0.        ,\n",
       "       0.        , 0.        , 0.        , 0.        , 0.        ,\n",
       "       0.        , 0.        , 0.        , 0.        , 0.        ,\n",
       "       0.        , 0.        , 0.        , 0.        , 0.        ,\n",
       "       0.        , 0.        , 0.        , 0.        , 0.        ,\n",
       "       0.        , 0.        , 0.        , 0.        , 0.        ,\n",
       "       0.        , 0.        , 0.        , 0.        , 0.        ,\n",
       "       0.        , 0.        , 0.        , 0.        , 0.        ,\n",
       "       0.        , 0.        , 0.        , 0.        , 0.        ,\n",
       "       0.        , 0.        , 0.        , 0.        , 0.        ,\n",
       "       0.        , 0.        , 0.        , 0.        , 0.        ,\n",
       "       0.        , 0.        , 0.        , 0.        , 0.        ,\n",
       "       0.        , 0.        , 0.        , 0.        , 0.        ,\n",
       "       0.        , 0.        , 0.        , 0.        , 0.        ,\n",
       "       0.        , 0.        , 0.14057757, 0.        , 0.        ,\n",
       "       0.        , 0.        , 0.        , 0.        , 0.        ,\n",
       "       0.        , 0.        , 0.        , 0.        , 0.        ,\n",
       "       0.        , 0.        , 0.        , 0.        , 0.        ,\n",
       "       0.        , 0.        , 0.        , 0.        , 0.        ,\n",
       "       0.        , 0.        , 0.        , 0.        , 0.        ,\n",
       "       0.        , 0.        , 0.        , 0.        , 0.        ,\n",
       "       0.        , 0.        , 0.        , 0.        , 0.        ,\n",
       "       0.        , 0.        , 0.        , 0.        , 0.        ,\n",
       "       0.        , 0.        , 0.        , 0.        , 0.        ,\n",
       "       0.        , 0.        , 0.        , 0.        , 0.        ,\n",
       "       0.        , 0.        , 0.        , 0.        , 0.        ,\n",
       "       0.        , 0.        , 0.        , 0.        , 0.        ,\n",
       "       0.        , 0.        , 0.        , 0.        , 0.        ,\n",
       "       0.        , 0.        , 0.        , 0.        , 0.        ,\n",
       "       0.        , 0.        , 0.        , 0.        , 0.        ,\n",
       "       0.        , 0.        , 0.        , 0.        , 0.        ,\n",
       "       0.        , 0.        , 0.        , 0.        , 0.        ,\n",
       "       0.        , 0.        , 0.        , 0.        , 0.        ,\n",
       "       0.        , 0.        , 0.        , 0.        , 0.        ,\n",
       "       0.        , 0.        , 0.        , 0.        , 0.        ,\n",
       "       0.        , 0.2833828 , 0.        , 0.        , 0.        ,\n",
       "       0.23384087, 0.        , 0.        , 0.        , 0.        ,\n",
       "       0.        , 0.        , 0.        , 0.        , 0.        ,\n",
       "       0.        , 0.        , 0.        , 0.        , 0.        ,\n",
       "       0.        , 0.        , 0.        , 0.        , 0.        ,\n",
       "       0.        , 0.        , 0.        , 0.        , 0.        ,\n",
       "       0.        , 0.        , 0.        , 0.        , 0.        ,\n",
       "       0.        , 0.        , 0.        , 0.        , 0.        ,\n",
       "       0.        , 0.        , 0.        , 0.        , 0.        ,\n",
       "       0.        , 0.        , 0.        , 0.        , 0.        ,\n",
       "       0.        , 0.        , 0.        , 0.        , 0.        ,\n",
       "       0.        , 0.        , 0.        , 0.        , 0.        ,\n",
       "       0.        , 0.        , 0.        , 0.22248848, 0.        ,\n",
       "       0.        , 0.        , 0.        , 0.        , 0.        ,\n",
       "       0.        , 0.        , 0.        , 0.        , 0.        ,\n",
       "       0.        , 0.        , 0.        , 0.        , 0.        ,\n",
       "       0.        , 0.        , 0.        , 0.        , 0.        ,\n",
       "       0.        , 0.        , 0.        , 0.        , 0.        ,\n",
       "       0.        , 0.        , 0.        , 0.        , 0.        ,\n",
       "       0.        , 0.        , 0.        , 0.        , 0.        ,\n",
       "       0.18736094, 0.        , 0.        , 0.        , 0.        ,\n",
       "       0.        , 0.        , 0.        , 0.        , 0.        ,\n",
       "       0.        , 0.        , 0.        , 0.        , 0.        ,\n",
       "       0.        , 0.        , 0.        , 0.        , 0.        ,\n",
       "       0.        , 0.        , 0.        , 0.        , 0.        ,\n",
       "       0.        , 0.        , 0.        , 0.        , 0.        ,\n",
       "       0.        , 0.        , 0.        , 0.        , 0.        ,\n",
       "       0.        , 0.        , 0.        , 0.        , 0.        ,\n",
       "       0.        , 0.        , 0.        , 0.        , 0.        ,\n",
       "       0.        , 0.        , 0.        , 0.        , 0.        ,\n",
       "       0.        , 0.        , 0.        , 0.        , 0.        ,\n",
       "       0.        , 0.        , 0.        , 0.        , 0.        ,\n",
       "       0.        , 0.        , 0.        , 0.        , 0.        ,\n",
       "       0.        , 0.        , 0.        , 0.        , 0.        ,\n",
       "       0.        , 0.        , 0.        , 0.        , 0.        ,\n",
       "       0.        , 0.        , 0.        , 0.        , 0.        ,\n",
       "       0.        , 0.        , 0.        , 0.        , 0.        ,\n",
       "       0.        , 0.        , 0.        , 0.        , 0.        ,\n",
       "       0.        , 0.        , 0.        , 0.        , 0.        ,\n",
       "       0.        , 0.        , 0.        , 0.        , 0.        ,\n",
       "       0.        , 0.        , 0.        , 0.        , 0.        ,\n",
       "       0.        , 0.        , 0.        , 0.        , 0.        ,\n",
       "       0.        , 0.11888129, 0.        , 0.        , 0.        ,\n",
       "       0.        , 0.        , 0.        , 0.        , 0.        ,\n",
       "       0.        , 0.        , 0.        , 0.        , 0.        ,\n",
       "       0.        , 0.        , 0.        , 0.        , 0.        ,\n",
       "       0.        , 0.        , 0.        , 0.        , 0.        ,\n",
       "       0.        , 0.        , 0.        , 0.        , 0.        ,\n",
       "       0.        , 0.        , 0.        , 0.        , 0.        ,\n",
       "       0.        , 0.        , 0.        , 0.        , 0.        ,\n",
       "       0.12312454, 0.        , 0.        , 0.        , 0.        ,\n",
       "       0.        , 0.        , 0.        , 0.        , 0.        ,\n",
       "       0.        , 0.        , 0.        , 0.        , 0.        ,\n",
       "       0.        , 0.        , 0.        , 0.        , 0.        ,\n",
       "       0.        , 0.        , 0.        , 0.        , 0.        ,\n",
       "       0.        , 0.        , 0.        , 0.        , 0.        ,\n",
       "       0.        , 0.2833828 , 0.        , 0.        , 0.        ,\n",
       "       0.        , 0.        , 0.        , 0.        , 0.        ,\n",
       "       0.        , 0.        , 0.        , 0.        , 0.        ,\n",
       "       0.        , 0.        , 0.        , 0.        , 0.        ,\n",
       "       0.        , 0.        , 0.        , 0.        , 0.        ,\n",
       "       0.        , 0.        , 0.        , 0.        , 0.        ,\n",
       "       0.        , 0.        , 0.        , 0.        , 0.        ,\n",
       "       0.        , 0.        , 0.        , 0.        , 0.        ,\n",
       "       0.        , 0.        , 0.        , 0.        , 0.        ,\n",
       "       0.        , 0.        , 0.        , 0.        , 0.        ,\n",
       "       0.        , 0.        , 0.        , 0.        , 0.        ,\n",
       "       0.        , 0.        , 0.        , 0.        , 0.        ,\n",
       "       0.        , 0.        , 0.        , 0.        , 0.        ,\n",
       "       0.        , 0.        , 0.        , 0.        , 0.        ,\n",
       "       0.        , 0.        , 0.        , 0.        , 0.        ,\n",
       "       0.        , 0.        , 0.        , 0.        , 0.        ,\n",
       "       0.        , 0.        , 0.        , 0.        , 0.        ,\n",
       "       0.        , 0.19331222, 0.        , 0.        , 0.        ,\n",
       "       0.        , 0.        , 0.        , 0.        , 0.        ,\n",
       "       0.        , 0.        , 0.        , 0.        , 0.        ,\n",
       "       0.        , 0.        , 0.        , 0.        , 0.        ,\n",
       "       0.        , 0.        , 0.        , 0.        , 0.        ,\n",
       "       0.        , 0.        , 0.        , 0.        , 0.        ,\n",
       "       0.        , 0.        , 0.        , 0.        , 0.        ,\n",
       "       0.        , 0.32391145, 0.        , 0.        , 0.        ,\n",
       "       0.        , 0.        , 0.        , 0.        , 0.        ,\n",
       "       0.        , 0.        , 0.        , 0.2833828 , 0.        ,\n",
       "       0.        , 0.        , 0.        , 0.        , 0.        ,\n",
       "       0.        , 0.        , 0.        , 0.        , 0.        ,\n",
       "       0.        , 0.        , 0.        , 0.        , 0.        ,\n",
       "       0.        , 0.        , 0.        , 0.        , 0.        ,\n",
       "       0.        , 0.        , 0.        , 0.        , 0.        ,\n",
       "       0.        , 0.        , 0.        , 0.        , 0.        ,\n",
       "       0.        , 0.        , 0.        , 0.        , 0.        ,\n",
       "       0.        , 0.        , 0.        , 0.        , 0.        ,\n",
       "       0.        , 0.        , 0.        , 0.        , 0.        ,\n",
       "       0.        , 0.        , 0.        , 0.        , 0.        ,\n",
       "       0.        , 0.        , 0.        , 0.        , 0.        ,\n",
       "       0.        , 0.        , 0.        , 0.        , 0.        ,\n",
       "       0.        , 0.        , 0.        , 0.        , 0.        ,\n",
       "       0.        , 0.        , 0.        , 0.        , 0.        ,\n",
       "       0.        , 0.        , 0.        , 0.        , 0.        ,\n",
       "       0.        , 0.        , 0.        , 0.        , 0.        ,\n",
       "       0.        , 0.        , 0.        , 0.        , 0.        ,\n",
       "       0.        , 0.        , 0.        , 0.        , 0.        ,\n",
       "       0.        , 0.        , 0.        , 0.        , 0.        ,\n",
       "       0.        , 0.        , 0.        , 0.        , 0.        ,\n",
       "       0.        , 0.        , 0.        , 0.        , 0.        ,\n",
       "       0.        , 0.        , 0.        , 0.        , 0.        ,\n",
       "       0.        , 0.        , 0.2833828 , 0.        , 0.        ,\n",
       "       0.        , 0.        , 0.        , 0.        , 0.        ,\n",
       "       0.        , 0.        , 0.        , 0.        , 0.        ,\n",
       "       0.        , 0.        , 0.        , 0.        , 0.        ,\n",
       "       0.        , 0.        , 0.        , 0.        , 0.        ,\n",
       "       0.25967505, 0.        , 0.        , 0.        , 0.        ,\n",
       "       0.        , 0.        , 0.        , 0.        , 0.        ,\n",
       "       0.        , 0.        , 0.        , 0.        , 0.        ,\n",
       "       0.        , 0.        , 0.        , 0.        , 0.        ,\n",
       "       0.        , 0.        , 0.        , 0.16688443, 0.        ,\n",
       "       0.        , 0.        , 0.        , 0.        , 0.        ,\n",
       "       0.1999386 , 0.        , 0.        , 0.        , 0.        ,\n",
       "       0.        , 0.        , 0.        , 0.        , 0.        ,\n",
       "       0.        , 0.        , 0.        , 0.        , 0.        ,\n",
       "       0.        , 0.        , 0.        , 0.        , 0.        ,\n",
       "       0.        , 0.        , 0.        , 0.        , 0.        ,\n",
       "       0.        , 0.        , 0.        , 0.        , 0.        ,\n",
       "       0.        , 0.        , 0.        , 0.        , 0.        ,\n",
       "       0.        , 0.        , 0.        , 0.        , 0.        ,\n",
       "       0.        , 0.        , 0.        , 0.        , 0.        ,\n",
       "       0.        , 0.        , 0.        , 0.        , 0.        ,\n",
       "       0.        ])"
      ]
     },
     "execution_count": 107,
     "metadata": {},
     "output_type": "execute_result"
    }
   ],
   "source": [
    "X[2]"
   ]
  },
  {
   "cell_type": "code",
   "execution_count": 108,
   "id": "4c3e7ef4",
   "metadata": {},
   "outputs": [
    {
     "data": {
      "text/plain": [
       "'  realli    hope    save    dc    movi    univers    look    nice    far    cast    seem    great    tone    feel    appropri    cant    wait    watch  '"
      ]
     },
     "execution_count": 108,
     "metadata": {},
     "output_type": "execute_result"
    }
   ],
   "source": [
    "final_df['Comment'][2]"
   ]
  },
  {
   "cell_type": "code",
   "execution_count": null,
   "id": "7d8ebc11",
   "metadata": {},
   "outputs": [],
   "source": []
  }
 ],
 "metadata": {
  "kernelspec": {
   "display_name": "Python 3 (ipykernel)",
   "language": "python",
   "name": "python3"
  },
  "language_info": {
   "codemirror_mode": {
    "name": "ipython",
    "version": 3
   },
   "file_extension": ".py",
   "mimetype": "text/x-python",
   "name": "python",
   "nbconvert_exporter": "python",
   "pygments_lexer": "ipython3",
   "version": "3.9.12"
  }
 },
 "nbformat": 4,
 "nbformat_minor": 5
}
